{
  "nbformat": 4,
  "nbformat_minor": 0,
  "metadata": {
    "colab": {
      "provenance": [],
      "machine_shape": "hm"
    },
    "kernelspec": {
      "name": "python3",
      "display_name": "Python 3"
    },
    "accelerator": "GPU"
  },
  "cells": [
    {
      "cell_type": "markdown",
      "metadata": {
        "id": "WMucfLUS1yhH"
      },
      "source": [
        "## What is this?\n",
        "\n",
        "This Jupyter Notebook contains Python code for building a LSTM Recurrent Neural Network that gives 87-88% accuracy on the IMDB Movie Review Sentiment Analysis Dataset.\n",
        "\n",
        "More information is given on [this blogpost](https://www.bouvet.no/bouvet-deler/explaining-recurrent-neural-networks).\n",
        "\n",
        "This code is supplied without license, warranty or support. Feel free to do with it what you will."
      ]
    },
    {
      "cell_type": "markdown",
      "metadata": {
        "id": "wFUKGe4x3ala"
      },
      "source": [
        "## Built for Google Collaboratory\n",
        "\n",
        "Train your network more quickly in Google Collaboratory. From the **Runtime** menu select **Change Runtime** Type and choose \"GPU\"!\n",
        "\n",
        "Don't forget to select **Runtime** -> **Restart runtime** to put your changes into effect."
      ]
    },
    {
      "cell_type": "markdown",
      "metadata": {
        "id": "WP1VrbVp3sVu"
      },
      "source": [
        "## Setting up\n",
        "\n",
        "When running this for the first time you may get a warning telling you to restart the Runtime. You can ignore this, but feel free to select \"Runtime->Restart Runtime\" from the overhead menu if you encounter problems."
      ]
    },
    {
      "cell_type": "code",
      "metadata": {
        "id": "2e3txwbh3q76",
        "outputId": "dff1c39d-2913-4358-d185-86a7c3e7ec17",
        "colab": {
          "base_uri": "https://localhost:8080/"
        }
      },
      "source": [
        "# keras.datasets.imdb is broken in TensorFlow 1.13 and 1.14 due to numpy 1.16.3\n",
        "!pip install numpy==1.16.2\n",
        "\n",
        "# All the imports!\n",
        "import tensorflow as tf\n",
        "import numpy as np\n",
        "from tensorflow.keras.preprocessing import sequence\n",
        "from numpy import array\n",
        "\n",
        "# Supress deprecation warnings\n",
        "import logging\n",
        "logging.getLogger('tensorflow').disabled = True\n",
        "\n",
        "# Fetch \"IMDB Movie Review\" data, constraining our reviews to\n",
        "# the 10000 most commonly used words\n",
        "vocab_size = 10000\n",
        "(x_train, y_train), (x_test, y_test) = tf.keras.datasets.imdb.load_data(num_words=vocab_size)\n",
        "\n",
        "# Map for readable classnames\n",
        "class_names = [\"Negative\", \"Positive\"]"
      ],
      "execution_count": null,
      "outputs": [
        {
          "output_type": "stream",
          "name": "stdout",
          "text": [
            "Collecting numpy==1.16.2\n",
            "  Downloading numpy-1.16.2.zip (5.1 MB)\n",
            "\u001b[2K     \u001b[90m━━━━━━━━━━━━━━━━━━━━━━━━━━━━━━━━━━━━━━━━\u001b[0m \u001b[32m5.1/5.1 MB\u001b[0m \u001b[31m27.6 MB/s\u001b[0m eta \u001b[36m0:00:00\u001b[0m\n",
            "\u001b[?25h  Preparing metadata (setup.py) ... \u001b[?25l\u001b[?25hdone\n",
            "Building wheels for collected packages: numpy\n",
            "  \u001b[1;31merror\u001b[0m: \u001b[1msubprocess-exited-with-error\u001b[0m\n",
            "  \n",
            "  \u001b[31m×\u001b[0m \u001b[32mpython setup.py bdist_wheel\u001b[0m did not run successfully.\n",
            "  \u001b[31m│\u001b[0m exit code: \u001b[1;36m1\u001b[0m\n",
            "  \u001b[31m╰─>\u001b[0m See above for output.\n",
            "  \n",
            "  \u001b[1;35mnote\u001b[0m: This error originates from a subprocess, and is likely not a problem with pip.\n",
            "  Building wheel for numpy (setup.py) ... \u001b[?25lerror\n",
            "\u001b[31m  ERROR: Failed building wheel for numpy\u001b[0m\u001b[31m\n",
            "\u001b[0m\u001b[?25h  Running setup.py clean for numpy\n",
            "  \u001b[1;31merror\u001b[0m: \u001b[1msubprocess-exited-with-error\u001b[0m\n",
            "  \n",
            "  \u001b[31m×\u001b[0m \u001b[32mpython setup.py clean\u001b[0m did not run successfully.\n",
            "  \u001b[31m│\u001b[0m exit code: \u001b[1;36m1\u001b[0m\n",
            "  \u001b[31m╰─>\u001b[0m See above for output.\n",
            "  \n",
            "  \u001b[1;35mnote\u001b[0m: This error originates from a subprocess, and is likely not a problem with pip.\n",
            "\u001b[31m  ERROR: Failed cleaning build dir for numpy\u001b[0m\u001b[31m\n",
            "\u001b[0mFailed to build numpy\n",
            "\u001b[31mERROR: Could not build wheels for numpy, which is required to install pyproject.toml-based projects\u001b[0m\u001b[31m\n",
            "\u001b[0mDownloading data from https://storage.googleapis.com/tensorflow/tf-keras-datasets/imdb.npz\n",
            "17464789/17464789 [==============================] - 0s 0us/step\n"
          ]
        }
      ]
    },
    {
      "cell_type": "markdown",
      "metadata": {
        "id": "hdyHL8FF0JJy"
      },
      "source": [
        "## Create map for converting IMDB dataset to readable reviews\n",
        "\n",
        "Reviews in the IMDB dataset have been encoded as a sequence of integers. Luckily the dataset also\n",
        "contains an index for converting the reviews back into human readable form."
      ]
    },
    {
      "cell_type": "code",
      "metadata": {
        "id": "E05AweFu0Imt",
        "colab": {
          "base_uri": "https://localhost:8080/"
        },
        "outputId": "600f4148-2a45-4613-9354-58431a26173e"
      },
      "source": [
        "# Get the word index from the dataset\n",
        "word_index = tf.keras.datasets.imdb.get_word_index()\n",
        "\n",
        "# Ensure that \"special\" words are mapped into human readable terms\n",
        "word_index = {k:(v+3) for k,v in word_index.items()}\n",
        "word_index[\"<PAD>\"] = 0\n",
        "word_index[\"<START>\"] = 1\n",
        "word_index[\"<UNKNOWN>\"] = 2\n",
        "word_index[\"<UNUSED>\"] = 3\n",
        "\n",
        "# Perform reverse word lookup and make it callable\n",
        "reverse_word_index = dict([(value, key) for (key, value) in word_index.items()])\n",
        "def decode_review(text):\n",
        "    return ' '.join([reverse_word_index.get(i, '?') for i in text])"
      ],
      "execution_count": null,
      "outputs": [
        {
          "output_type": "stream",
          "name": "stdout",
          "text": [
            "Downloading data from https://storage.googleapis.com/tensorflow/tf-keras-datasets/imdb_word_index.json\n",
            "1641221/1641221 [==============================] - 0s 0us/step\n"
          ]
        }
      ]
    },
    {
      "cell_type": "markdown",
      "metadata": {
        "id": "fFXK-g6G81sC"
      },
      "source": [
        "## Data Insight\n",
        "\n",
        "Here we take a closer look at our data. How many words do our reviews contain?\n",
        "\n",
        "And what do our review look like in machine and human readable form?\n"
      ]
    },
    {
      "cell_type": "code",
      "metadata": {
        "id": "yD1qHVBn81Y_",
        "outputId": "61e3764e-7ed5-43d2-f8a3-e1e22ab583a5",
        "colab": {
          "base_uri": "https://localhost:8080/"
        }
      },
      "source": [
        "# Concatonate test and training datasets\n",
        "allreviews = np.concatenate((x_train, x_test), axis=0)\n",
        "\n",
        "# Review lengths across test and training whole datasets\n",
        "print(\"Maximum review length: {}\".format(len(max((allreviews), key=len))))\n",
        "print(\"Minimum review length: {}\".format(len(min((allreviews), key=len))))\n",
        "result = [len(x) for x in allreviews]\n",
        "print(\"Mean review length: {}\".format(np.mean(result)))\n",
        "\n",
        "# Print a review and it's class as stored in the dataset. Replace the number\n",
        "# to select a different review.\n",
        "print(\"\")\n",
        "print(\"Machine readable Review\")\n",
        "print(\"  Review Text: \" + str(x_train[60]))\n",
        "print(\"  Review Sentiment: \" + str(y_train[60]))\n",
        "\n",
        "# Print a review and it's class in human readable format. Replace the number\n",
        "# to select a different review.\n",
        "print(\"\")\n",
        "print(\"Human Readable Review\")\n",
        "print(\"  Review Text: \" + decode_review(x_train[60]))\n",
        "print(\"  Review Sentiment: \" + class_names[y_train[60]])"
      ],
      "execution_count": null,
      "outputs": [
        {
          "output_type": "stream",
          "name": "stdout",
          "text": [
            "Maximum review length: 2494\n",
            "Minimum review length: 7\n",
            "Mean review length: 234.75892\n",
            "\n",
            "Machine readable Review\n",
            "  Review Text: [1, 13, 219, 14, 33, 4, 2, 22, 1413, 12, 16, 373, 175, 2711, 1115, 1026, 430, 939, 16, 23, 2444, 25, 43, 697, 89, 12, 16, 170, 8, 130, 262, 19, 32, 4, 665, 7, 4, 2, 322, 5, 4, 1520, 7, 4, 86, 250, 10, 10, 4, 249, 173, 16, 4, 3891, 6, 19, 4, 167, 564, 5, 564, 1325, 36, 805, 8, 216, 638, 17, 2, 21, 25, 100, 376, 507, 4, 2110, 15, 79, 125, 23, 567, 13, 2134, 233, 36, 4852, 2, 5, 81, 1672, 10, 10, 92, 437, 129, 58, 13, 69, 8, 401, 61, 1432, 39, 1286, 46, 7, 12]\n",
            "  Review Sentiment: 0\n",
            "\n",
            "Human Readable Review\n",
            "  Review Text: <START> i saw this at the <UNKNOWN> film festival it was awful every clichéd violent rich boy fantasy was on display you just knew how it was going to end especially with all the shots of the <UNKNOWN> wife and the rape of the first girl br br the worst part was the q a with the director writer and writer producer they tried to come across as <UNKNOWN> but you could tell they're the types that get off on violence i bet anything they frequent <UNKNOWN> and do drugs br br don't waste your time i had to keep my boyfriend from walking out of it\n",
            "  Review Sentiment: Negative\n"
          ]
        }
      ]
    },
    {
      "cell_type": "markdown",
      "metadata": {
        "id": "mF-Votm66zD5"
      },
      "source": [
        "## Pre-processing Data\n",
        "\n",
        "We need to make sure that our reviews are of a uniform length. This is for the LSTM's parameters.\n",
        "\n",
        "Some reviews will need to be truncated, while others need to be padded."
      ]
    },
    {
      "cell_type": "code",
      "metadata": {
        "id": "uNtJTLJA6gaT",
        "outputId": "065fa062-62cc-4f29-e09c-4ec74111b4e3",
        "colab": {
          "base_uri": "https://localhost:8080/"
        }
      },
      "source": [
        "# The length of reviews\n",
        "review_length = 500\n",
        "\n",
        "# Padding / truncated our reviews\n",
        "x_train = sequence.pad_sequences(x_train, maxlen = review_length)\n",
        "x_test = sequence.pad_sequences(x_test, maxlen = review_length)\n",
        "\n",
        "# Check the size of our datasets. Review data for both test and training should\n",
        "# contain 25000 reviews of 500 integers. Class data should contain 25000 values,\n",
        "# one for each review. Class values are 0 or 1, indicating a negative\n",
        "# or positive review.\n",
        "print(\"Shape Training Review Data: \" + str(x_train.shape))\n",
        "print(\"Shape Training Class Data: \" + str(y_train.shape))\n",
        "print(\"Shape Test Review Data: \" + str(x_test.shape))\n",
        "print(\"Shape Test Class Data: \" + str(y_test.shape))\n",
        "\n",
        "# Note padding is added to start of review, not the end\n",
        "print(\"\")\n",
        "print(\"Human Readable Review Text (post padding): \" + decode_review(x_train[60]))"
      ],
      "execution_count": null,
      "outputs": [
        {
          "output_type": "stream",
          "name": "stdout",
          "text": [
            "Shape Training Review Data: (25000, 500)\n",
            "Shape Training Class Data: (25000,)\n",
            "Shape Test Review Data: (25000, 500)\n",
            "Shape Test Class Data: (25000,)\n",
            "\n",
            "Human Readable Review Text (post padding): <PAD> <PAD> <PAD> <PAD> <PAD> <PAD> <PAD> <PAD> <PAD> <PAD> <PAD> <PAD> <PAD> <PAD> <PAD> <PAD> <PAD> <PAD> <PAD> <PAD> <PAD> <PAD> <PAD> <PAD> <PAD> <PAD> <PAD> <PAD> <PAD> <PAD> <PAD> <PAD> <PAD> <PAD> <PAD> <PAD> <PAD> <PAD> <PAD> <PAD> <PAD> <PAD> <PAD> <PAD> <PAD> <PAD> <PAD> <PAD> <PAD> <PAD> <PAD> <PAD> <PAD> <PAD> <PAD> <PAD> <PAD> <PAD> <PAD> <PAD> <PAD> <PAD> <PAD> <PAD> <PAD> <PAD> <PAD> <PAD> <PAD> <PAD> <PAD> <PAD> <PAD> <PAD> <PAD> <PAD> <PAD> <PAD> <PAD> <PAD> <PAD> <PAD> <PAD> <PAD> <PAD> <PAD> <PAD> <PAD> <PAD> <PAD> <PAD> <PAD> <PAD> <PAD> <PAD> <PAD> <PAD> <PAD> <PAD> <PAD> <PAD> <PAD> <PAD> <PAD> <PAD> <PAD> <PAD> <PAD> <PAD> <PAD> <PAD> <PAD> <PAD> <PAD> <PAD> <PAD> <PAD> <PAD> <PAD> <PAD> <PAD> <PAD> <PAD> <PAD> <PAD> <PAD> <PAD> <PAD> <PAD> <PAD> <PAD> <PAD> <PAD> <PAD> <PAD> <PAD> <PAD> <PAD> <PAD> <PAD> <PAD> <PAD> <PAD> <PAD> <PAD> <PAD> <PAD> <PAD> <PAD> <PAD> <PAD> <PAD> <PAD> <PAD> <PAD> <PAD> <PAD> <PAD> <PAD> <PAD> <PAD> <PAD> <PAD> <PAD> <PAD> <PAD> <PAD> <PAD> <PAD> <PAD> <PAD> <PAD> <PAD> <PAD> <PAD> <PAD> <PAD> <PAD> <PAD> <PAD> <PAD> <PAD> <PAD> <PAD> <PAD> <PAD> <PAD> <PAD> <PAD> <PAD> <PAD> <PAD> <PAD> <PAD> <PAD> <PAD> <PAD> <PAD> <PAD> <PAD> <PAD> <PAD> <PAD> <PAD> <PAD> <PAD> <PAD> <PAD> <PAD> <PAD> <PAD> <PAD> <PAD> <PAD> <PAD> <PAD> <PAD> <PAD> <PAD> <PAD> <PAD> <PAD> <PAD> <PAD> <PAD> <PAD> <PAD> <PAD> <PAD> <PAD> <PAD> <PAD> <PAD> <PAD> <PAD> <PAD> <PAD> <PAD> <PAD> <PAD> <PAD> <PAD> <PAD> <PAD> <PAD> <PAD> <PAD> <PAD> <PAD> <PAD> <PAD> <PAD> <PAD> <PAD> <PAD> <PAD> <PAD> <PAD> <PAD> <PAD> <PAD> <PAD> <PAD> <PAD> <PAD> <PAD> <PAD> <PAD> <PAD> <PAD> <PAD> <PAD> <PAD> <PAD> <PAD> <PAD> <PAD> <PAD> <PAD> <PAD> <PAD> <PAD> <PAD> <PAD> <PAD> <PAD> <PAD> <PAD> <PAD> <PAD> <PAD> <PAD> <PAD> <PAD> <PAD> <PAD> <PAD> <PAD> <PAD> <PAD> <PAD> <PAD> <PAD> <PAD> <PAD> <PAD> <PAD> <PAD> <PAD> <PAD> <PAD> <PAD> <PAD> <PAD> <PAD> <PAD> <PAD> <PAD> <PAD> <PAD> <PAD> <PAD> <PAD> <PAD> <PAD> <PAD> <PAD> <PAD> <PAD> <PAD> <PAD> <PAD> <PAD> <PAD> <PAD> <PAD> <PAD> <PAD> <PAD> <PAD> <PAD> <PAD> <PAD> <PAD> <PAD> <PAD> <PAD> <PAD> <PAD> <PAD> <PAD> <PAD> <PAD> <PAD> <PAD> <PAD> <PAD> <PAD> <PAD> <PAD> <PAD> <PAD> <PAD> <PAD> <PAD> <PAD> <PAD> <PAD> <PAD> <PAD> <PAD> <PAD> <PAD> <PAD> <PAD> <PAD> <PAD> <PAD> <PAD> <PAD> <PAD> <PAD> <PAD> <PAD> <PAD> <PAD> <PAD> <PAD> <PAD> <PAD> <PAD> <PAD> <PAD> <START> i saw this at the <UNKNOWN> film festival it was awful every clichéd violent rich boy fantasy was on display you just knew how it was going to end especially with all the shots of the <UNKNOWN> wife and the rape of the first girl br br the worst part was the q a with the director writer and writer producer they tried to come across as <UNKNOWN> but you could tell they're the types that get off on violence i bet anything they frequent <UNKNOWN> and do drugs br br don't waste your time i had to keep my boyfriend from walking out of it\n"
          ]
        }
      ]
    },
    {
      "cell_type": "markdown",
      "metadata": {
        "id": "BfOdV_VCCFee"
      },
      "source": [
        "## Create and build LSTM Recurrent Neural Network"
      ]
    },
    {
      "cell_type": "code",
      "source": [
        "tf.keras.layers.LSTM"
      ],
      "metadata": {
        "colab": {
          "base_uri": "https://localhost:8080/",
          "height": 186
        },
        "id": "-CI2UdGDTicr",
        "outputId": "23f7fc87-cab7-4a6f-e90f-a895cf5a9177"
      },
      "execution_count": null,
      "outputs": [
        {
          "output_type": "execute_result",
          "data": {
            "text/plain": [
              "keras.src.layers.rnn.lstm.LSTM"
            ],
            "text/html": [
              "<div style=\"max-width:800px; border: 1px solid var(--colab-border-color);\"><style>\n",
              "      pre.function-repr-contents {\n",
              "        overflow-x: auto;\n",
              "        padding: 8px 12px;\n",
              "        max-height: 500px;\n",
              "      }\n",
              "\n",
              "      pre.function-repr-contents.function-repr-contents-collapsed {\n",
              "        cursor: pointer;\n",
              "        max-height: 100px;\n",
              "      }\n",
              "    </style>\n",
              "    <pre style=\"white-space: initial; background:\n",
              "         var(--colab-secondary-surface-color); padding: 8px 12px;\n",
              "         border-bottom: 1px solid var(--colab-border-color);\"><b>keras.src.layers.rnn.lstm.LSTM</b><br/>def __call__(inputs, initial_state=None, constants=None, **kwargs)</pre><pre class=\"function-repr-contents function-repr-contents-collapsed\" style=\"\"><a class=\"filepath\" style=\"display:none\" href=\"#\">/usr/local/lib/python3.10/dist-packages/keras/src/layers/rnn/lstm.py</a>Long Short-Term Memory layer - Hochreiter 1997.\n",
              "\n",
              "See [the Keras RNN API guide](https://www.tensorflow.org/guide/keras/rnn)\n",
              "for details about the usage of RNN API.\n",
              "\n",
              "Based on available runtime hardware and constraints, this layer\n",
              "will choose different implementations (cuDNN-based or pure-TensorFlow)\n",
              "to maximize the performance. If a GPU is available and all\n",
              "the arguments to the layer meet the requirement of the cuDNN kernel\n",
              "(see below for details), the layer will use a fast cuDNN implementation.\n",
              "\n",
              "The requirements to use the cuDNN implementation are:\n",
              "\n",
              "1. `activation` == `tanh`\n",
              "2. `recurrent_activation` == `sigmoid`\n",
              "3. `recurrent_dropout` == 0\n",
              "4. `unroll` is `False`\n",
              "5. `use_bias` is `True`\n",
              "6. Inputs, if use masking, are strictly right-padded.\n",
              "7. Eager execution is enabled in the outermost context.\n",
              "\n",
              "For example:\n",
              "\n",
              "&gt;&gt;&gt; inputs = tf.random.normal([32, 10, 8])\n",
              "&gt;&gt;&gt; lstm = tf.keras.layers.LSTM(4)\n",
              "&gt;&gt;&gt; output = lstm(inputs)\n",
              "&gt;&gt;&gt; print(output.shape)\n",
              "(32, 4)\n",
              "&gt;&gt;&gt; lstm = tf.keras.layers.LSTM(4, return_sequences=True, return_state=True)\n",
              "&gt;&gt;&gt; whole_seq_output, final_memory_state, final_carry_state = lstm(inputs)\n",
              "&gt;&gt;&gt; print(whole_seq_output.shape)\n",
              "(32, 10, 4)\n",
              "&gt;&gt;&gt; print(final_memory_state.shape)\n",
              "(32, 4)\n",
              "&gt;&gt;&gt; print(final_carry_state.shape)\n",
              "(32, 4)\n",
              "\n",
              "Args:\n",
              "  units: Positive integer, dimensionality of the output space.\n",
              "  activation: Activation function to use.\n",
              "    Default: hyperbolic tangent (`tanh`). If you pass `None`, no activation\n",
              "    is applied (ie. &quot;linear&quot; activation: `a(x) = x`).\n",
              "  recurrent_activation: Activation function to use for the recurrent step.\n",
              "    Default: sigmoid (`sigmoid`). If you pass `None`, no activation is\n",
              "    applied (ie. &quot;linear&quot; activation: `a(x) = x`).\n",
              "  use_bias: Boolean (default `True`), whether the layer uses a bias vector.\n",
              "  kernel_initializer: Initializer for the `kernel` weights matrix, used for\n",
              "    the linear transformation of the inputs. Default: `glorot_uniform`.\n",
              "  recurrent_initializer: Initializer for the `recurrent_kernel` weights\n",
              "    matrix, used for the linear transformation of the recurrent state.\n",
              "    Default: `orthogonal`.\n",
              "  bias_initializer: Initializer for the bias vector. Default: `zeros`.\n",
              "  unit_forget_bias: Boolean (default `True`). If True, add 1 to the bias of\n",
              "    the forget gate at initialization. Setting it to true will also force\n",
              "    `bias_initializer=&quot;zeros&quot;`. This is recommended in [Jozefowicz et\n",
              "        al.](http://www.jmlr.org/proceedings/papers/v37/jozefowicz15.pdf).\n",
              "  kernel_regularizer: Regularizer function applied to the `kernel` weights\n",
              "    matrix. Default: `None`.\n",
              "  recurrent_regularizer: Regularizer function applied to the\n",
              "    `recurrent_kernel` weights matrix. Default: `None`.\n",
              "  bias_regularizer: Regularizer function applied to the bias vector.\n",
              "    Default: `None`.\n",
              "  activity_regularizer: Regularizer function applied to the output of the\n",
              "    layer (its &quot;activation&quot;). Default: `None`.\n",
              "  kernel_constraint: Constraint function applied to the `kernel` weights\n",
              "    matrix. Default: `None`.\n",
              "  recurrent_constraint: Constraint function applied to the\n",
              "    `recurrent_kernel` weights matrix. Default: `None`.\n",
              "  bias_constraint: Constraint function applied to the bias vector. Default:\n",
              "    `None`.\n",
              "  dropout: Float between 0 and 1. Fraction of the units to drop for the\n",
              "    linear transformation of the inputs. Default: 0.\n",
              "  recurrent_dropout: Float between 0 and 1. Fraction of the units to drop\n",
              "    for the linear transformation of the recurrent state. Default: 0.\n",
              "  return_sequences: Boolean. Whether to return the last output in the output\n",
              "    sequence, or the full sequence. Default: `False`.\n",
              "  return_state: Boolean. Whether to return the last state in addition to the\n",
              "    output. Default: `False`.\n",
              "  go_backwards: Boolean (default `False`). If True, process the input\n",
              "    sequence backwards and return the reversed sequence.\n",
              "  stateful: Boolean (default `False`). If True, the last state for each\n",
              "  sample at index i in a batch will be used as initial state for the sample\n",
              "    of index i in the following batch.\n",
              "  time_major: The shape format of the `inputs` and `outputs` tensors.\n",
              "    If True, the inputs and outputs will be in shape\n",
              "    `[timesteps, batch, feature]`, whereas in the False case, it will be\n",
              "    `[batch, timesteps, feature]`. Using `time_major = True` is a bit more\n",
              "    efficient because it avoids transposes at the beginning and end of the\n",
              "    RNN calculation. However, most TensorFlow data is batch-major, so by\n",
              "    default this function accepts input and emits output in batch-major\n",
              "    form.\n",
              "  unroll: Boolean (default `False`). If True, the network will be unrolled,\n",
              "    else a symbolic loop will be used. Unrolling can speed-up a RNN,\n",
              "    although it tends to be more memory-intensive. Unrolling is only\n",
              "    suitable for short sequences.\n",
              "\n",
              "Call arguments:\n",
              "  inputs: A 3D tensor with shape `[batch, timesteps, feature]`.\n",
              "  mask: Binary tensor of shape `[batch, timesteps]` indicating whether\n",
              "    a given timestep should be masked (optional).\n",
              "    An individual `True` entry indicates that the corresponding timestep\n",
              "    should be utilized, while a `False` entry indicates that the\n",
              "    corresponding timestep should be ignored. Defaults to `None`.\n",
              "  training: Python boolean indicating whether the layer should behave in\n",
              "    training mode or in inference mode. This argument is passed to the cell\n",
              "    when calling it. This is only relevant if `dropout` or\n",
              "    `recurrent_dropout` is used (optional). Defaults to `None`.\n",
              "  initial_state: List of initial state tensors to be passed to the first\n",
              "    call of the cell (optional, `None` causes creation\n",
              "    of zero-filled initial state tensors). Defaults to `None`.</pre>\n",
              "      <script>\n",
              "      if (google.colab.kernel.accessAllowed && google.colab.files && google.colab.files.view) {\n",
              "        for (const element of document.querySelectorAll('.filepath')) {\n",
              "          element.style.display = 'block'\n",
              "          element.onclick = (event) => {\n",
              "            event.preventDefault();\n",
              "            event.stopPropagation();\n",
              "            google.colab.files.view(element.textContent, 382);\n",
              "          };\n",
              "        }\n",
              "      }\n",
              "      for (const element of document.querySelectorAll('.function-repr-contents')) {\n",
              "        element.onclick = (event) => {\n",
              "          event.preventDefault();\n",
              "          event.stopPropagation();\n",
              "          element.classList.toggle('function-repr-contents-collapsed');\n",
              "        };\n",
              "      }\n",
              "      </script>\n",
              "      </div>"
            ]
          },
          "metadata": {},
          "execution_count": 5
        }
      ]
    },
    {
      "cell_type": "code",
      "source": [
        "from tensorflow.keras.layers import LSTM\n"
      ],
      "metadata": {
        "id": "aIrv86UiVN4X"
      },
      "execution_count": null,
      "outputs": []
    },
    {
      "cell_type": "code",
      "metadata": {
        "id": "8nmO8M4aCKwT",
        "outputId": "8be55b2d-f827-4a66-bcf9-21858da68716",
        "colab": {
          "base_uri": "https://localhost:8080/"
        }
      },
      "source": [
        "# We begin by defining the a empty stack. We'll use this for building our\n",
        "# network, later by layer.\n",
        "model = tf.keras.models.Sequential()\n",
        "\n",
        "# The Embedding Layer provides a spatial mapping (or Word Embedding) of all the\n",
        "# individual words in our training set. Words close to one another share context\n",
        "# and or meaning. This spatial mapping is learning during the training process.\n",
        "model.add(\n",
        "    tf.keras.layers.Embedding(\n",
        "        input_dim = vocab_size, # The size of our vocabulary\n",
        "        output_dim = 32, # Dimensions to which each words shall be mapped\n",
        "        input_length = review_length # Length of input sequences\n",
        "    )\n",
        ")\n",
        "\n",
        "# Dropout layers fight overfitting and forces the model to learn multiple\n",
        "# representations of the same data by randomly disabling neurons in the\n",
        "# learning phase.\n",
        "model.add(\n",
        "    tf.keras.layers.Dropout(\n",
        "        rate=0.25 # Randomly disable 25% of neurons\n",
        "    )\n",
        ")\n",
        "\n",
        "# We are using a fast version of LSTM whih is optimised for GPUs. This layer\n",
        "# looks at the sequence of words in the review, along with their word embeddings\n",
        "# and uses both of these to determine to sentiment of a given review.\n",
        "model.add(\n",
        "   # tf.keras.layers.CuDNNLSTM(\n",
        "    tf.keras.layers.LSTM(\n",
        "        units=32 # 32 LSTM units in this layer\n",
        "    )\n",
        ")\n",
        "\n",
        "# Add a second dropout layer with the same aim as the first.\n",
        "model.add(\n",
        "    tf.keras.layers.Dropout(\n",
        "        rate=0.25 # Randomly disable 25% of neurons\n",
        "    )\n",
        ")\n",
        "\n",
        "# All LSTM units are connected to a single node in the dense layer. A sigmoid\n",
        "# activation function determines the output from this node - a value\n",
        "# between 0 and 1. Closer to 0 indicates a negative review. Closer to 1\n",
        "# indicates a positive review.\n",
        "model.add(\n",
        "    tf.keras.layers.Dense(\n",
        "        units=1, # Single unit\n",
        "        activation='sigmoid' # Sigmoid activation function (output from 0 to 1)\n",
        "    )\n",
        ")\n",
        "\n",
        "# Compile the model\n",
        "model.compile(\n",
        "    loss=tf.keras.losses.binary_crossentropy, # loss function\n",
        "    optimizer=tf.keras.optimizers.Adam(), # optimiser function\n",
        "    metrics=['accuracy']) # reporting metric\n",
        "\n",
        "# Display a summary of the models structure\n",
        "model.summary()"
      ],
      "execution_count": null,
      "outputs": [
        {
          "output_type": "stream",
          "name": "stdout",
          "text": [
            "Model: \"sequential\"\n",
            "_________________________________________________________________\n",
            " Layer (type)                Output Shape              Param #   \n",
            "=================================================================\n",
            " embedding (Embedding)       (None, 500, 32)           320000    \n",
            "                                                                 \n",
            " dropout (Dropout)           (None, 500, 32)           0         \n",
            "                                                                 \n",
            " lstm (LSTM)                 (None, 32)                8320      \n",
            "                                                                 \n",
            " dropout_1 (Dropout)         (None, 32)                0         \n",
            "                                                                 \n",
            " dense (Dense)               (None, 1)                 33        \n",
            "                                                                 \n",
            "=================================================================\n",
            "Total params: 328353 (1.25 MB)\n",
            "Trainable params: 328353 (1.25 MB)\n",
            "Non-trainable params: 0 (0.00 Byte)\n",
            "_________________________________________________________________\n"
          ]
        }
      ]
    },
    {
      "cell_type": "markdown",
      "metadata": {
        "id": "8Xx1Q2I8WNI9"
      },
      "source": [
        "## Visualise the Model"
      ]
    },
    {
      "cell_type": "code",
      "metadata": {
        "id": "cz0Erj2WU3Vh",
        "outputId": "b77a5c29-c801-4760-d51b-7ca6fd220605",
        "colab": {
          "base_uri": "https://localhost:8080/",
          "height": 644
        }
      },
      "source": [
        "tf.keras.utils.plot_model(model, to_file='model.png', show_shapes=True, show_layer_names=False)"
      ],
      "execution_count": null,
      "outputs": [
        {
          "output_type": "execute_result",
          "data": {
            "image/png": "[encoded data removed]",
            "text/plain": [
              "<IPython.core.display.Image object>"
            ]
          },
          "metadata": {},
          "execution_count": 8
        }
      ]
    },
    {
      "cell_type": "markdown",
      "metadata": {
        "id": "5KdfAoHsGwzo"
      },
      "source": [
        "## Train the LSTM"
      ]
    },
    {
      "cell_type": "code",
      "metadata": {
        "id": "rEN1vV4nG1V3",
        "outputId": "cbf81f55-630e-4c07-a3b7-2194c6fe1197",
        "colab": {
          "base_uri": "https://localhost:8080/"
        }
      },
      "source": [
        "# Train the LSTM on the training data\n",
        "history = model.fit(\n",
        "\n",
        "    # Training data : features (review) and classes (positive or negative)\n",
        "    x_train, y_train,\n",
        "\n",
        "    # Number of samples to work through before updating the\n",
        "    # internal model parameters via back propagation. The\n",
        "    # higher the batch, the more memory you need.\n",
        "    batch_size=256,\n",
        "\n",
        "    # An epoch is an iteration over the entire training data.\n",
        "    epochs=3,\n",
        "\n",
        "    # The model will set apart his fraction of the training\n",
        "    # data, will not train on it, and will evaluate the loss\n",
        "    # and any model metrics on this data at the end of\n",
        "    # each epoch.\n",
        "    validation_split=0.2,\n",
        "\n",
        "    verbose=1\n",
        ")"
      ],
      "execution_count": null,
      "outputs": [
        {
          "output_type": "stream",
          "name": "stdout",
          "text": [
            "Epoch 1/3\n",
            "79/79 [==============================] - 46s 543ms/step - loss: 0.6019 - accuracy: 0.6852 - val_loss: 0.4249 - val_accuracy: 0.8276\n",
            "Epoch 2/3\n",
            "79/79 [==============================] - 40s 507ms/step - loss: 0.3379 - accuracy: 0.8644 - val_loss: 0.3444 - val_accuracy: 0.8592\n",
            "Epoch 3/3\n",
            "79/79 [==============================] - 44s 560ms/step - loss: 0.2355 - accuracy: 0.9140 - val_loss: 0.2839 - val_accuracy: 0.8856\n"
          ]
        }
      ]
    },
    {
      "cell_type": "markdown",
      "metadata": {
        "id": "rpCS2-jFH1KY"
      },
      "source": [
        "## Evaluate model with test data and view results"
      ]
    },
    {
      "cell_type": "code",
      "source": [
        "predict_x=model.predict(x_test)\n",
        "predicted_classes=np.argmax(predict_x,axis=1)"
      ],
      "metadata": {
        "colab": {
          "base_uri": "https://localhost:8080/"
        },
        "id": "UyRkk9qJWwNX",
        "outputId": "4ab448dc-513a-4e20-e99c-4020db8df68d"
      },
      "execution_count": null,
      "outputs": [
        {
          "output_type": "stream",
          "name": "stdout",
          "text": [
            "782/782 [==============================] - 35s 44ms/step\n"
          ]
        }
      ]
    },
    {
      "cell_type": "code",
      "source": [
        "from sklearn.metrics import classification_report"
      ],
      "metadata": {
        "id": "3rep9wJYWbnB"
      },
      "execution_count": null,
      "outputs": []
    },
    {
      "cell_type": "code",
      "source": [
        "# print(classification_report(y_test, classes_x, target_names=class_names))"
      ],
      "metadata": {
        "id": "HUE6EQeQZn1g"
      },
      "execution_count": null,
      "outputs": []
    },
    {
      "cell_type": "code",
      "metadata": {
        "id": "nPnfxwbnITqV"
      },
      "source": [
        "# # Get Model Predictions for test data\n",
        "# from sklearn.metrics import classification_report\n",
        "# predicted_classes = model.predict_classes(x_test)\n",
        "# print(classification_report(y_test, predicted_classes, target_names=class_names))"
      ],
      "execution_count": null,
      "outputs": []
    },
    {
      "cell_type": "code",
      "source": [
        "print(classification_report(y_test, predicted_classes, target_names=class_names))"
      ],
      "metadata": {
        "id": "SJqmEFX2YxKg",
        "colab": {
          "base_uri": "https://localhost:8080/"
        },
        "outputId": "fe92d2b0-f9f6-4ab4-cdbd-89b0f819810e"
      },
      "execution_count": null,
      "outputs": [
        {
          "output_type": "stream",
          "name": "stdout",
          "text": [
            "              precision    recall  f1-score   support\n",
            "\n",
            "    Negative       0.50      1.00      0.67     12500\n",
            "    Positive       0.00      0.00      0.00     12500\n",
            "\n",
            "    accuracy                           0.50     25000\n",
            "   macro avg       0.25      0.50      0.33     25000\n",
            "weighted avg       0.25      0.50      0.33     25000\n",
            "\n"
          ]
        },
        {
          "output_type": "stream",
          "name": "stderr",
          "text": [
            "/usr/local/lib/python3.10/dist-packages/sklearn/metrics/_classification.py:1344: UndefinedMetricWarning: Precision and F-score are ill-defined and being set to 0.0 in labels with no predicted samples. Use `zero_division` parameter to control this behavior.\n",
            "  _warn_prf(average, modifier, msg_start, len(result))\n",
            "/usr/local/lib/python3.10/dist-packages/sklearn/metrics/_classification.py:1344: UndefinedMetricWarning: Precision and F-score are ill-defined and being set to 0.0 in labels with no predicted samples. Use `zero_division` parameter to control this behavior.\n",
            "  _warn_prf(average, modifier, msg_start, len(result))\n",
            "/usr/local/lib/python3.10/dist-packages/sklearn/metrics/_classification.py:1344: UndefinedMetricWarning: Precision and F-score are ill-defined and being set to 0.0 in labels with no predicted samples. Use `zero_division` parameter to control this behavior.\n",
            "  _warn_prf(average, modifier, msg_start, len(result))\n"
          ]
        }
      ]
    },
    {
      "cell_type": "markdown",
      "metadata": {
        "id": "CkfHCIVHrJni"
      },
      "source": [
        "## View some incorrect predictions\n",
        "\n",
        "Lets have a look at some of the incorrectly classified reviews. For readability we remove the padding.\n",
        "\n"
      ]
    },
    {
      "cell_type": "code",
      "metadata": {
        "id": "bwKLBwBbp7zg",
        "outputId": "0632b752-8dd8-4138-da01-2201b018e921",
        "colab": {
          "base_uri": "https://localhost:8080/"
        }
      },
      "source": [
        "predicted_classes_reshaped = np.reshape(predicted_classes, 25000)\n",
        "\n",
        "incorrect = np.nonzero(predicted_classes_reshaped!=y_test)[0]\n",
        "\n",
        "# We select the first 10 incorrectly classified reviews\n",
        "for j, incorrect in enumerate(incorrect[0:20]):\n",
        "\n",
        "    predicted = class_names[predicted_classes_reshaped[incorrect]]\n",
        "    actual = class_names[y_test[incorrect]]\n",
        "    human_readable_review = decode_review(x_test[incorrect])\n",
        "\n",
        "    print(\"Incorrectly classified Test Review [\"+ str(j+1) +\"]\")\n",
        "    print(\"Test Review #\" + str(incorrect)  + \": Predicted [\"+ predicted + \"] Actual [\"+ actual + \"]\")\n",
        "    print(\"Test Review Text: \" + human_readable_review.replace(\"<PAD> \", \"\"))\n",
        "    print(\"\")"
      ],
      "execution_count": null,
      "outputs": [
        {
          "output_type": "stream",
          "name": "stdout",
          "text": [
            "Incorrectly classified Test Review [1]\n",
            "Test Review #1: Predicted [Negative] Actual [Positive]\n",
            "Test Review Text: <START> this film requires a lot of patience because it focuses on mood and character development the plot is very simple and many of the scenes take place on the same set in frances <UNKNOWN> the sandy dennis character apartment but the film builds to a disturbing climax br br the characters create an atmosphere <UNKNOWN> with sexual tension and psychological <UNKNOWN> it's very interesting that robert altman directed this considering the style and structure of his other films still the trademark altman audio style is evident here and there i think what really makes this film work is the brilliant performance by sandy dennis it's definitely one of her darker characters but she plays it so perfectly and convincingly that it's scary michael burns does a good job as the mute young man regular altman player michael murphy has a small part the <UNKNOWN> moody set fits the content of the story very well in short this movie is a powerful study of loneliness sexual <UNKNOWN> and desperation be patient <UNKNOWN> up the atmosphere and pay attention to the wonderfully written script br br i praise robert altman this is one of his many films that deals with unconventional fascinating subject matter this film is disturbing but it's sincere and it's sure to <UNKNOWN> a strong emotional response from the viewer if you want to see an unusual film some might even say bizarre this is worth the time br br unfortunately it's very difficult to find in video stores you may have to buy it off the internet\n",
            "\n",
            "Incorrectly classified Test Review [2]\n",
            "Test Review #2: Predicted [Negative] Actual [Positive]\n",
            "Test Review Text: at a time when motion picture animation of all sorts was in its <UNKNOWN> br br the political <UNKNOWN> of the russian revolution caused <UNKNOWN> to move to paris where one of his first productions <UNKNOWN> was a dark political satire <UNKNOWN> known as <UNKNOWN> or the <UNKNOWN> who wanted a king a strain of black comedy can be found in almost all of films but here it is very dark indeed aimed more at grown ups who can appreciate the satirical aspects than children who would most likely find the climax <UNKNOWN> i'm middle aged and found it pretty <UNKNOWN> myself and indeed <UNKNOWN> of the film intended for english speaking viewers of the 1920s were given title cards filled with <UNKNOWN> and <UNKNOWN> in order to help <UNKNOWN> the sharp <UNKNOWN> of the finale br br our tale is set in a swamp the <UNKNOWN> <UNKNOWN> where the citizens are unhappy with their government and have called a special session to see what they can do to improve matters they decide to <UNKNOWN> <UNKNOWN> for a king the crowds are <UNKNOWN> animated in this opening sequence it couldn't have been easy to make so many frog puppets look alive simultaneously while <UNKNOWN> for his part is depicted as a <UNKNOWN> white <UNKNOWN> guy in the clouds who looks like he'd rather be taking a <UNKNOWN> when <UNKNOWN> sends them a tree like god who regards them the <UNKNOWN> decide that this is no improvement and demand a different king irritated <UNKNOWN> sends them a <UNKNOWN> br br delighted with this <UNKNOWN> looking new king who towers above them the <UNKNOWN> welcome him with a <UNKNOWN> of <UNKNOWN> dressed <UNKNOWN> the mayor steps forward to hand him the key to the <UNKNOWN> as <UNKNOWN> cameras record the event to everyone's horror the <UNKNOWN> promptly eats the mayor and then goes on a merry rampage <UNKNOWN> citizens at random a title card <UNKNOWN> reads news of the king's <UNKNOWN> throughout the kingdom when the now terrified <UNKNOWN> once more <UNKNOWN> <UNKNOWN> for help he loses his temper and <UNKNOWN> their community with lightning <UNKNOWN> the moral of our story delivered by a hapless frog just before he is eaten is let well enough alone br br considering the time period when this startling little film was made and considering the fact that it was made by a russian <UNKNOWN> at the height of that <UNKNOWN> country's civil war it would be easy to see this as a <UNKNOWN> about those events <UNKNOWN> may or may not have had <UNKNOWN> turmoil in mind when he made <UNKNOWN> but whatever <UNKNOWN> his choice of material the film stands as a <UNKNOWN> tale of universal <UNKNOWN> <UNKNOWN> could be the soviet union italy germany or japan in the 1930s or any country of any era that lets its guard down and is overwhelmed by <UNKNOWN> it's a fascinating film even a charming one in its macabre way but its message is no joke\n",
            "\n",
            "Incorrectly classified Test Review [3]\n",
            "Test Review #4: Predicted [Negative] Actual [Positive]\n",
            "Test Review Text: <START> like some other people wrote i'm a die hard mario fan and i loved this game br br this game starts slightly boring but trust me it's worth it as soon as you start your hooked the levels are fun and <UNKNOWN> they will hook you <UNKNOWN> your mind turns to <UNKNOWN> i'm not kidding this game is also <UNKNOWN> and is beautifully done br br to keep this spoiler free i have to keep my mouth shut about details but please try this game it'll be worth it br br story 9 9 action 10 1 it's that good <UNKNOWN> 10 attention <UNKNOWN> 10 average 10\n",
            "\n",
            "Incorrectly classified Test Review [4]\n",
            "Test Review #5: Predicted [Negative] Actual [Positive]\n",
            "Test Review Text: <START> i'm absolutely disgusted this movie isn't being sold all who love this movie should email disney and increase the demand for it they'd eventually have to sell it then i'd buy copies for everybody i know everything and everybody in this movie did a good job and i haven't figured out why disney hasn't put this movie on dvd or on vhs in rental stores at least i haven't seen any copies this is a wicked good movie and should be seen by all the kids in the new generation don't get to see it and i think they should it should at least be put back on the channel this movie doesn't deserve a cheap <UNKNOWN> it deserves the real thing i'm them now this movie will be on dvd\n",
            "\n",
            "Incorrectly classified Test Review [5]\n",
            "Test Review #6: Predicted [Negative] Actual [Positive]\n",
            "Test Review Text: later used by frank <UNKNOWN> in mr deeds goes to town and meet john <UNKNOWN> but in <UNKNOWN> no one individual is cast as a hero or heroine the story is told through a series of scenes that are combined in a special effect known as montage the editing and selection of short segments to produce a desired effect on the viewer d w griffith also used the montage but no one <UNKNOWN> it so well as <UNKNOWN> br br the artistic filming of the crew sleeping in their is <UNKNOWN> by the <UNKNOWN> swinging of tables suspended from chains in the <UNKNOWN> in contrast the confrontation between the crew and their officers is charged with electricity and the <UNKNOWN> <UNKNOWN> of the masses demonstrate their rage with injustice br br <UNKNOWN> introduced the technique of showing an action and repeating it again but from a slightly different angle to demonstrate intensity the breaking of a plate bearing the words give us this day our daily bread <UNKNOWN> the beginning of the end this technique is used in last year at <UNKNOWN> also when the <UNKNOWN> surgeon is tossed over the side his <UNKNOWN> <UNKNOWN> from the <UNKNOWN> it was these glasses that the officer used to <UNKNOWN> and pass the <UNKNOWN> <UNKNOWN> meat this sequence ties the punishment to the corruption of the <UNKNOWN> era br br the most noted sequence in the film and perhaps in all of film history is the <UNKNOWN> steps the broad <UNKNOWN> of the steps are filled with hundreds of extras rapid and dramatic violence is always suggested and not explicit yet the visual images of the deaths of a few will last in the minds of the viewer forever br br the <UNKNOWN> shots of <UNKNOWN> boots and legs <UNKNOWN> the steps are cleverly <UNKNOWN> with long menacing shadows from a sun at the top of the steps the pace of the sequence is deliberately varied between the <UNKNOWN> soldiers and a few civilians who <UNKNOWN> up courage to beg them to stop a close up of a woman's face frozen in horror after being struck by a <UNKNOWN> sword is the direct <UNKNOWN> of the bank <UNKNOWN> in bonnie in clyde and gives a lasting impression of the horror of the <UNKNOWN> regime br br the death of a young mother leads to a baby <UNKNOWN> <UNKNOWN> down the steps in a sequence that has been copied by hitchcock in foreign <UNKNOWN> by terry gilliam in brazil and brian <UNKNOWN> in the <UNKNOWN> this sequence is shown repeatedly from various angles thus drawing out what probably was only a five second event br br <UNKNOWN> is a film that the revolutionary spirit <UNKNOWN> it for those already committed and it for the <UNKNOWN> it <UNKNOWN> of fire and <UNKNOWN> with the senseless <UNKNOWN> of the <UNKNOWN> <UNKNOWN> regime its greatest impact has been on film students who have borrowed and only slightly improved on techniques invented in russia several generations ago\n",
            "\n",
            "Incorrectly classified Test Review [6]\n",
            "Test Review #9: Predicted [Negative] Actual [Positive]\n",
            "Test Review Text: <START> this film is where the batman franchise ought to have stopped though i will <UNKNOWN> that the ideas behind batman forever were excellent and could have been easily realised by a competent director as it turned out this was not to be the case br br apparently warner brothers executives were disappointed with how dark this second batman film from tim burton turned out apart from the idiocy of expecting anything else from burton and the conservative <UNKNOWN> of their subsequent decision to turn the franchise into an homage to the sixties tv series i fail to understand how batman returns can be considered at all disappointing br br true it is not quite the equal of the first film though it <UNKNOWN> all the minor <UNKNOWN> of style found in batman a weaker script that <UNKNOWN> the <UNKNOWN> between not just two but three characters invites <UNKNOWN> comparisons to the masterful pairing of keaton and jack nicholson as the joker in the first film yet for all this it remains a <UNKNOWN> dark film true to the way the batman was always meant to be and highly satisfying br br michael keaton returns as the batman and his alter ego bruce wayne with <UNKNOWN> max <UNKNOWN> christopher walken named in honour of the 1920s german silent actor his partner in crime <UNKNOWN> <UNKNOWN> the penguin danny <UNKNOWN> in brilliant makeup reminiscent of laurence <UNKNOWN> richard iii and <UNKNOWN> kyle the <UNKNOWN> michelle pfeiffer whom wayne romances both as himself and as the batman the four principals turn in excellent performances especially walken and <UNKNOWN> while together keaton and pfeiffer explore the darker side of double identities br br there are some intriguing concepts in this film about the only weakness i can really point out is a certain to the script in some places which i think is due mostly to the way this film is a four <UNKNOWN> fight there simply isn't enough time to properly explore what's going on br br nevertheless this is a damn good film i highly recommend watching this in <UNKNOWN> with the first and then <UNKNOWN> for how good the series could have been had it continued under burton and keaton\n",
            "\n",
            "Incorrectly classified Test Review [7]\n",
            "Test Review #10: Predicted [Negative] Actual [Positive]\n",
            "Test Review Text: <START> inspired by hitchcock's strangers on a train concept of two men <UNKNOWN> murders in exchange for getting rid of the two people messing up their lives throw <UNKNOWN> from the train is an original and very inventive comedy take on the idea it's a credit to danny <UNKNOWN> that he both wrote and starred in this minor comedy gem br br anne <UNKNOWN> is the mother who <UNKNOWN> the film's title and it's understandable why she gets under the skin of danny <UNKNOWN> with her sharp tongue and relentlessly putting him down for any minor <UNKNOWN> billy crystal is the writer who's wife has stolen his book idea and is now being <UNKNOWN> as a great new author even appearing on the oprah show to in <UNKNOWN> he should be enjoying thus <UNKNOWN> gets the idea of <UNKNOWN> murders to rid themselves of these <UNKNOWN> factors br br of course everything and anything can happen when writer carl <UNKNOWN> lets his imagination <UNKNOWN> with <UNKNOWN> ideas for how the plot develops and it's amusing all the way through providing plenty of laughs and chuckles along the way as well as a good deal of suspense br br for <UNKNOWN> of black comedy this one is guaranteed to please\n",
            "\n",
            "Incorrectly classified Test Review [8]\n",
            "Test Review #14: Predicted [Negative] Actual [Positive]\n",
            "Test Review Text: <START> a touching documentary that puts a human face on the tragedy of 9 11 by showing how one small community to honor two high school friends lost on that day the film <UNKNOWN> the lives of chris and tom through interviews with family and friends and snippets of old photos through their <UNKNOWN> we glimpse two lives <UNKNOWN> cut short the film also documents how through a series of <UNKNOWN> an inspirational <UNKNOWN> garden was brought forth through the efforts of many people both known and unknown to the two victims through the laughter and the tears and the sweat we see the power of hope and honor and love this films evokes many different emotions but the final feeling is one of admiration of the human spirit by tragedy\n",
            "\n",
            "Incorrectly classified Test Review [9]\n",
            "Test Review #16: Predicted [Negative] Actual [Positive]\n",
            "Test Review Text: <START> from 1996 first i watched this movie i feel never reach the end of my satisfaction i feel that i want to watch more and more until now my god i don't believe it was ten years ago and i can believe that i almost remember every word of the dialogues i love this movie and i love this novel absolutely perfection i love willem <UNKNOWN> he has a strange voice to spell the words black night and i always say it for many times never being bored i love the music of it's so much made me come into another world deep in my heart anyone can feel what i feel and anyone could make the movie like this i don't believe so thanks thanks\n",
            "\n",
            "Incorrectly classified Test Review [10]\n",
            "Test Review #20: Predicted [Negative] Actual [Positive]\n",
            "Test Review Text: <START> this film was one that i have waited to see for some time i was glad to find it has been everything anticipated the writing of this film has been so finely crafted and <UNKNOWN> far beyond what is seen by the audience i found it amusing that so many people watching will not read between some very important lines but indeed if not the movie will make sense in a different way and is very brilliant the film has many stories and characters woven together around this one character <UNKNOWN> a man whom has rose from the streets amidst many <UNKNOWN> and become a very powerful criminal after spending some time in prison <UNKNOWN> finds a <UNKNOWN> in the justice system and through a disturbing turn of events is released only to find everything is not at all what it seems <UNKNOWN> finds himself going up against the higher realm of society and political <UNKNOWN> in order to make clear how important a man's word is and stands for a war begins as the street is in arms against <UNKNOWN> of wealth and corrupt power br br a build up to explosive and powerful non stop twists and turns this film will leave you <UNKNOWN> i found the cast of this movie to be outstanding and is not a movie to be ignored excellent go rent it today\n",
            "\n",
            "Incorrectly classified Test Review [11]\n",
            "Test Review #21: Predicted [Negative] Actual [Positive]\n",
            "Test Review Text: <START> this is one of my favourite disney films it has everything you could hope for in a disney animation cute animals great songs a nasty villain and lots of adventure the story begins in paris where <UNKNOWN> and her three <UNKNOWN> live with their mistress in a mansion life is perfect for them until the <UNKNOWN> butler edgar discovers that she plans to leave her entire fortune to the cats he realises that if he even stands a chance of claiming the fortune the cats will be out of the way an excellent often forgotten masterpiece from the 1970's a time when the disney studio made few animations which features songs such as the title number the <UNKNOWN> as well as wants to be a cat this will <UNKNOWN> viewers young and old with its enduring\n",
            "\n",
            "Incorrectly classified Test Review [12]\n",
            "Test Review #22: Predicted [Negative] Actual [Positive]\n",
            "Test Review Text: <START> how managed to avoid attention remains a mystery a potent mix of comedy and crime this one takes chances where tarantino plays it safe with the hollywood formula the risks don't always pay off one character in one sequence comes off <UNKNOWN> silly and falls flat in the lead role thomas jane gives a wonderful and complex performance and two brief appearances by mickey rourke hint at the high potential of this much under and <UNKNOWN> used actor here's a director one should keep one's eye on\n",
            "\n",
            "Incorrectly classified Test Review [13]\n",
            "Test Review #23: Predicted [Negative] Actual [Positive]\n",
            "Test Review Text: <START> eric ability to roll from character to character in this <UNKNOWN> man <UNKNOWN> <UNKNOWN> his true range as a character actor each persona has their own message to convey about truth society class drugs etc this is an absolute must have for anyone who is a serious fan of acting his performance contains some of the most hilarious and real moments i have ever experienced as a viewing audience\n",
            "\n",
            "Incorrectly classified Test Review [14]\n",
            "Test Review #24: Predicted [Negative] Actual [Positive]\n",
            "Test Review Text: <START> <UNKNOWN> poet dylan thomas <UNKNOWN> from serving in active duty is doing his bit for the war effort producing bits of <UNKNOWN> for some propaganda branch of government in <UNKNOWN> br br thomas is portrayed as a believing in free love married to a woman with an equally demanding artistic streak and likewise with a <UNKNOWN> for <UNKNOWN> romance thomas writing and <UNKNOWN> his poetry in <UNKNOWN> domestic mayhem throughout becomes somewhat <UNKNOWN> towards the end <UNKNOWN> somewhat <UNKNOWN> on his society connections and pulling rank on a war veteran who had shot up his house and who was incidentally married to the woman he had been having an affair with br br the real story of this film is the love of two women one <UNKNOWN> knightley whose first love was thomas matthew rhys the second <UNKNOWN> miller who is <UNKNOWN> wife at times it reminds of the singing detective as in very good television with slightly sinister overtones laid on top of scenes of surreal camp absurdity\n",
            "\n",
            "Incorrectly classified Test Review [15]\n",
            "Test Review #25: Predicted [Negative] Actual [Positive]\n",
            "Test Review Text: <START> i'm not sure why this film is <UNKNOWN> so low on imdb when it's absolutely everything you could ever want in a horror film this is the definition of being a horror film i consider myself to be a big horror fan and i must say that this house delivers the goods house of wax is the story of a group of college kids on their way to a football game whom decide to camp out for the night and have a run in with a local weirdo upon waking the next morning they make a gruesome discovery and decide to go into town for a broken car part the town is creepy and i'm just gonna stop there because thats when the truly gruesome mayhem begins trust me when i say if your looking for a horror film go see this you will love it it's wonderfully diabolical and inventive with it's killing scenes the story is interesting and the characters are <UNKNOWN> drawn with the actors giving them <UNKNOWN> of personality paris hilton included whom does quite well with her part the film lies a little on the shallow side but it's so much fun and who cares this movie should eat up the box office and all horror fans should have part in it go see house of wax the film that features skin being <UNKNOWN> super glued lips dead animal <UNKNOWN> hot wax <UNKNOWN> on a still living person a finger being cut off a <UNKNOWN> a pole through the head and much more i was lucky enough to witness this film at the <UNKNOWN> premiere and all the actors were on hand to promote the film and boy do they have something to be proud of house of wax is the scariest roller ride of the year 9 10\n",
            "\n",
            "Incorrectly classified Test Review [16]\n",
            "Test Review #27: Predicted [Negative] Actual [Positive]\n",
            "Test Review Text: <START> wicked little things was a really good movie i will say at some parts it seemed really unbelievable and others it seemed as if there just wasn't enough thought put into the actions of the characters but overall it was exciting and entertaining i don't understand why this movie's rating is so low nor do i not understand why all the <UNKNOWN> film's ratings are so low these are b movies people and nothing more they provide great entertainment and most of them don't have many flaws at all this is definitely worth a look because you won't be disappointed with the outcome wicked little things is one of the best 1st <UNKNOWN> <UNKNOWN> films and compared to a lot of other films in the series this is one of the best overall\n",
            "\n",
            "Incorrectly classified Test Review [17]\n",
            "Test Review #28: Predicted [Negative] Actual [Positive]\n",
            "Test Review Text: <START> due to a very misleading advertising campaign i saw this film in theatres at the relatively young age of 10 the trailers on tv portrayed the film as a comedy and i <UNKNOWN> my parents until they took me after seeing the movie i was blown away i had no idea what to think totally different than anything i had seen before leaving far to many questions for such a young mind needless to say i loved it this morning was the first time i'd watched in in probably 2 3 years and i still think it's one of the greatest films made in the last decade kevin spacey and jeff bridges are both in top form as a mysterious man who may or may not be from another planet and the psychiatrist that develops a bond with him while trying to <UNKNOWN> his mystery the supporting cast are near perfect as well each resident of the mental institution is incredibly convincing in their own way the open ending was handled very well giving lots of evidence to support whatever you believe happened in the end how this movie failed to receive at least a nomination in that year's oscars is beyond me if you haven't seen this film run to wal mart right now the dvd is usually in the bargain bin pick it up br br 9 5 10\n",
            "\n",
            "Incorrectly classified Test Review [18]\n",
            "Test Review #30: Predicted [Negative] Actual [Positive]\n",
            "Test Review Text: <START> tim robbins did a masterful job directing this film i say this because he avoided convention and cliché he also <UNKNOWN> superb performances from susan sarandon who won an oscar for her role and sean penn even more amazing robbins doesn't <UNKNOWN> he just tells the story and lets the events play on the viewer's mind this is so effective because it allows the viewer to form his own opinions on the death penalty one of the most controversial subjects of our time without being unfairly manipulated in either direction i can't recommend this film enough 9 10\n",
            "\n",
            "Incorrectly classified Test Review [19]\n",
            "Test Review #31: Predicted [Negative] Actual [Positive]\n",
            "Test Review Text: <START> if you expect that this movie is full of action and grabbing you from the start then don't watch it but if you like those kind of <UNKNOWN> movies which stick in your mind for a while until you get the details then you will love it now don't get me wrong there is action and there are things going on just not in the usual way br br basically the plot is in a post apocalyptic world where anyone fights in his or their way for survival in this fight they lost the ability to speak i don't want to write more to not spoil the movie for you but trust me if you like sf authors like or or even some from orson scott card you will love this movie\n",
            "\n",
            "Incorrectly classified Test Review [20]\n",
            "Test Review #36: Predicted [Negative] Actual [Positive]\n",
            "Test Review Text: <START> this movie is certainly one of the greatest films ever made it is a story told in a steady pace told mostly not by words but by cinematic means of expression perfect blend of spectacular special effects and classical music bring to life creations of human imagination in both realistic and <UNKNOWN> way the story itself is quite simple at a first glance as the title implies there is an <UNKNOWN> journey a motive repeated for thousands of years this motive was always used not only to depict a trip in space and time and beyond but also had rich <UNKNOWN> meaning the film is a <UNKNOWN> <UNKNOWN> of most exciting eternal questions it is not just an odyssey of a person it is an odyssey of our species the film is great by itself yet in my case the impression from it will always be <UNKNOWN> with that from the book i've read it at the age of 10 really not thinking about problems like <UNKNOWN> is the relationship between evolution of <UNKNOWN> and development of human but the impression was great enough to make me fall for entire genre of science fiction br br the day i learned got only special effects oscar and was not even nominated for the best picture was the day when <UNKNOWN> completely became two words meaning nothing to me\n",
            "\n"
          ]
        }
      ]
    },
    {
      "cell_type": "markdown",
      "metadata": {
        "id": "OlAfxIoTrtYa"
      },
      "source": [
        "## Run your own text against the trained model\n",
        "\n",
        "This is a fun way to test out the limits of the trained model. To avoid getting errors - type in lower case only and do not use punctuation!\n",
        "\n",
        "You'll see the raw prediction from the model - basically a value between 0 and 1.\n",
        "\n"
      ]
    },
    {
      "cell_type": "code",
      "metadata": {
        "id": "UEKEB0DpD_8P",
        "outputId": "d0a34d35-2ad8-471c-a4fa-747b98d7dccc",
        "colab": {
          "base_uri": "https://localhost:8080/"
        }
      },
      "source": [
        "# Write your own review\n",
        "review = \"this was a terrible film with too much sex and violence i walked out halfway through\"\n",
        "#review = \"this is the best film i have ever seen it is great and fantastic and i loved it\"\n",
        "#review = \"this was an awful film that i will never see again\"\n",
        "\n",
        "# Encode review (replace word with integers)\n",
        "tmp = []\n",
        "for word in review.split(\" \"):\n",
        "    tmp.append(word_index[word])\n",
        "\n",
        "# Ensure review is 500 words long (by padding or truncating)\n",
        "tmp_padded = sequence.pad_sequences([tmp], maxlen=review_length)\n",
        "\n",
        "# Run your processed review against the trained model\n",
        "rawprediction = model.predict(array([tmp_padded][0]))[0][0]\n",
        "prediction = int(round(rawprediction))\n",
        "\n",
        "# Test the model and print the result\n",
        "print(\"Review: \" + review)\n",
        "print(\"Raw Prediction: \" + str(rawprediction))\n",
        "print(\"Predicted Class: \" + class_names[prediction])"
      ],
      "execution_count": null,
      "outputs": [
        {
          "output_type": "stream",
          "name": "stdout",
          "text": [
            "1/1 [==============================] - 0s 35ms/step\n",
            "Review: this was a terrible film with too much sex and violence i walked out halfway through\n",
            "Raw Prediction: 0.07321964\n",
            "Predicted Class: Negative\n"
          ]
        }
      ]
    }
  ]
}