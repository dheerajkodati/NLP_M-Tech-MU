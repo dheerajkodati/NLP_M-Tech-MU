{
  "metadata": {
    "kernelspec": {
      "language": "python",
      "display_name": "Python 3",
      "name": "python3"
    },
    "language_info": {
      "pygments_lexer": "ipython3",
      "nbconvert_exporter": "python",
      "version": "3.6.4",
      "file_extension": ".py",
      "codemirror_mode": {
        "name": "ipython",
        "version": 3
      },
      "name": "python",
      "mimetype": "text/x-python"
    },
    "colab": {
      "provenance": []
    }
  },
  "nbformat_minor": 0,
  "nbformat": 4,
  "cells": [
    {
      "source": [
        "\n",
        "# IMPORTANT: RUN THIS CELL IN ORDER TO IMPORT YOUR KAGGLE DATA SOURCES\n",
        "# TO THE CORRECT LOCATION (/kaggle/input) IN YOUR NOTEBOOK,\n",
        "# THEN FEEL FREE TO DELETE THIS CELL.\n",
        "# NOTE: THIS NOTEBOOK ENVIRONMENT DIFFERS FROM KAGGLE'S PYTHON\n",
        "# ENVIRONMENT SO THERE MAY BE MISSING LIBRARIES USED BY YOUR\n",
        "# NOTEBOOK.\n",
        "\n",
        "import os\n",
        "import sys\n",
        "from tempfile import NamedTemporaryFile\n",
        "from urllib.request import urlopen\n",
        "from urllib.parse import unquote, urlparse\n",
        "from urllib.error import HTTPError\n",
        "from zipfile import ZipFile\n",
        "import tarfile\n",
        "import shutil\n",
        "\n",
        "CHUNK_SIZE = 40960\n",
        "DATA_SOURCE_MAPPING = 'glove840b300dtxt:https%3A%2F%2Fstorage.googleapis.com%2Fkaggle-data-sets%2F8327%2F11650%2Fbundle%2Farchive.zip%3FX-Goog-Algorithm%3DGOOG4-RSA-SHA256%26X-Goog-Credential%3Dgcp-kaggle-com%2540kaggle-161607.iam.gserviceaccount.com%252F20240610%252Fauto%252Fstorage%252Fgoog4_request%26X-Goog-Date%3D20240610T142700Z%26X-Goog-Expires%3D259200%26X-Goog-SignedHeaders%3Dhost%26X-Goog-Signature%3D05b502dec8b4fe87dc9bdffdb24f055e202a943518db112e6fefb0f09a00f28d715602416345bfc0d088863b3d1455c411e5c4458ed498351690063dec828e56a6eabee4e22120c3b369b8a535a30c5357a1e2bd308dcfd5ea932517ce79f1faf97389dccf86a660d1ff501a6a615d24909a5307a3c4fb64f85417a5a2fe6a9be98d1095d5cd59320fe111033910559a8906cd8267bd95dbae23a7c7cf2afea80250bc501a771c578e1dd55013b5a330b7dfa44bee527a34e20bcea19d2ce2aadac02b1d187344b60934b8743581c4853f6bcfbd0f8360f0227959443f78b849cc5beb0a1294fd5e90a7abf0a6bc1a301c2f8ac89674e67c37919397e1eaa46c,emotions-dataset-for-nlp:https%3A%2F%2Fstorage.googleapis.com%2Fkaggle-data-sets%2F605165%2F1085454%2Fbundle%2Farchive.zip%3FX-Goog-Algorithm%3DGOOG4-RSA-SHA256%26X-Goog-Credential%3Dgcp-kaggle-com%2540kaggle-161607.iam.gserviceaccount.com%252F20240610%252Fauto%252Fstorage%252Fgoog4_request%26X-Goog-Date%3D20240610T142700Z%26X-Goog-Expires%3D259200%26X-Goog-SignedHeaders%3Dhost%26X-Goog-Signature%3D53e2cc883e7f1abdd69f7a0d5b8acbc25ebd7a923e9504e7c55619eb12785bceabefa4fe7a0624378687154b543df64e413dbf18b0e09919810e3b97791d455f4aa2acfd4282517171f83046126443578694481fd60747f53ecfe796d5118e54a8fd8b2073143f56806f6141bf8b16c909cdcca5d7de0d60504c78ee5e4417d6e642045c0bcc6aaeed93f3e9031d243ef596b5f257b756ec6f44d113fbf2cc92dd895b03509712013a2433db45b8c5f90cbd10afddeff9cef1f6de306ced98f8083c9d8a7549ac0bdac028a4dabbeefa5529996936f926129980cff11802838dc4c0d6712b6364d838cc18fbb5db4eea553beb5eb156df0021fd410f58c047f7'\n",
        "\n",
        "KAGGLE_INPUT_PATH='/kaggle/input'\n",
        "KAGGLE_WORKING_PATH='/kaggle/working'\n",
        "KAGGLE_SYMLINK='kaggle'\n",
        "\n",
        "!umount /kaggle/input/ 2> /dev/null\n",
        "shutil.rmtree('/kaggle/input', ignore_errors=True)\n",
        "os.makedirs(KAGGLE_INPUT_PATH, 0o777, exist_ok=True)\n",
        "os.makedirs(KAGGLE_WORKING_PATH, 0o777, exist_ok=True)\n",
        "\n",
        "try:\n",
        "  os.symlink(KAGGLE_INPUT_PATH, os.path.join(\"..\", 'input'), target_is_directory=True)\n",
        "except FileExistsError:\n",
        "  pass\n",
        "try:\n",
        "  os.symlink(KAGGLE_WORKING_PATH, os.path.join(\"..\", 'working'), target_is_directory=True)\n",
        "except FileExistsError:\n",
        "  pass\n",
        "\n",
        "for data_source_mapping in DATA_SOURCE_MAPPING.split(','):\n",
        "    directory, download_url_encoded = data_source_mapping.split(':')\n",
        "    download_url = unquote(download_url_encoded)\n",
        "    filename = urlparse(download_url).path\n",
        "    destination_path = os.path.join(KAGGLE_INPUT_PATH, directory)\n",
        "    try:\n",
        "        with urlopen(download_url) as fileres, NamedTemporaryFile() as tfile:\n",
        "            total_length = fileres.headers['content-length']\n",
        "            print(f'Downloading {directory}, {total_length} bytes compressed')\n",
        "            dl = 0\n",
        "            data = fileres.read(CHUNK_SIZE)\n",
        "            while len(data) > 0:\n",
        "                dl += len(data)\n",
        "                tfile.write(data)\n",
        "                done = int(50 * dl / int(total_length))\n",
        "                sys.stdout.write(f\"\\r[{'=' * done}{' ' * (50-done)}] {dl} bytes downloaded\")\n",
        "                sys.stdout.flush()\n",
        "                data = fileres.read(CHUNK_SIZE)\n",
        "            if filename.endswith('.zip'):\n",
        "              with ZipFile(tfile) as zfile:\n",
        "                zfile.extractall(destination_path)\n",
        "            else:\n",
        "              with tarfile.open(tfile.name) as tarfile:\n",
        "                tarfile.extractall(destination_path)\n",
        "            print(f'\\nDownloaded and uncompressed: {directory}')\n",
        "    except HTTPError as e:\n",
        "        print(f'Failed to load (likely expired) {download_url} to path {destination_path}')\n",
        "        continue\n",
        "    except OSError as e:\n",
        "        print(f'Failed to load {download_url} to path {destination_path}')\n",
        "        continue\n",
        "\n",
        "print('Data source import complete.')\n"
      ],
      "metadata": {
        "id": "LRUu2ntti7vC",
        "outputId": "9d6fba3e-3c97-4341-e946-20b20a034dd0",
        "colab": {
          "base_uri": "https://localhost:8080/"
        }
      },
      "cell_type": "code",
      "outputs": [
        {
          "output_type": "stream",
          "name": "stdout",
          "text": [
            "Downloading glove840b300dtxt, 2232946675 bytes compressed\n",
            "[==================================================] 2232946675 bytes downloaded\n",
            "Downloaded and uncompressed: glove840b300dtxt\n",
            "Downloading emotions-dataset-for-nlp, 738340 bytes compressed\n",
            "[==================================================] 738340 bytes downloaded\n",
            "Downloaded and uncompressed: emotions-dataset-for-nlp\n",
            "Data source import complete.\n"
          ]
        }
      ],
      "execution_count": null
    },
    {
      "cell_type": "code",
      "source": [
        "import re\n",
        "import tqdm\n",
        "import numpy as np\n",
        "import pandas as pd\n",
        "import seaborn as sns\n",
        "import matplotlib.pyplot as plt"
      ],
      "metadata": {
        "execution": {
          "iopub.status.busy": "2021-08-04T03:03:33.35041Z",
          "iopub.execute_input": "2021-08-04T03:03:33.350957Z",
          "iopub.status.idle": "2021-08-04T03:03:34.339183Z",
          "shell.execute_reply.started": "2021-08-04T03:03:33.35087Z",
          "shell.execute_reply": "2021-08-04T03:03:34.338383Z"
        },
        "trusted": true,
        "id": "H4UTYHWyi7vV"
      },
      "execution_count": null,
      "outputs": []
    },
    {
      "cell_type": "markdown",
      "source": [
        "# **Reading dataset and separating them as text and label**"
      ],
      "metadata": {
        "id": "Uglac3UDi7vY"
      }
    },
    {
      "cell_type": "code",
      "source": [
        "train_df = pd.read_csv(\"../input/emotions-dataset-for-nlp/train.txt\", sep=\";\", header= None, names=[\"text\", \"label\"])\n",
        "test_df = pd.read_csv(\"../input/emotions-dataset-for-nlp/test.txt\", sep=\";\", header= None, names=[\"text\", \"label\"])\n",
        "val_df = pd.read_csv(\"../input/emotions-dataset-for-nlp/val.txt\", sep=\";\", header= None, names=[\"text\", \"label\"])"
      ],
      "metadata": {
        "execution": {
          "iopub.status.busy": "2021-08-04T03:03:34.340859Z",
          "iopub.execute_input": "2021-08-04T03:03:34.341247Z",
          "iopub.status.idle": "2021-08-04T03:03:34.454917Z",
          "shell.execute_reply.started": "2021-08-04T03:03:34.341206Z",
          "shell.execute_reply": "2021-08-04T03:03:34.45402Z"
        },
        "trusted": true,
        "id": "Hl0pPONci7ve"
      },
      "execution_count": null,
      "outputs": []
    },
    {
      "cell_type": "code",
      "source": [
        "train_df.head()"
      ],
      "metadata": {
        "execution": {
          "iopub.status.busy": "2021-08-04T03:03:34.45677Z",
          "iopub.execute_input": "2021-08-04T03:03:34.457052Z",
          "iopub.status.idle": "2021-08-04T03:03:34.481175Z",
          "shell.execute_reply.started": "2021-08-04T03:03:34.457026Z",
          "shell.execute_reply": "2021-08-04T03:03:34.480131Z"
        },
        "trusted": true,
        "id": "ndxNChP8i7vf",
        "outputId": "1ee612f2-5012-4d9b-8684-2f4198aa851b",
        "colab": {
          "base_uri": "https://localhost:8080/",
          "height": 206
        }
      },
      "execution_count": null,
      "outputs": [
        {
          "output_type": "execute_result",
          "data": {
            "text/plain": [
              "                                                text    label\n",
              "0                            i didnt feel humiliated  sadness\n",
              "1  i can go from feeling so hopeless to so damned...  sadness\n",
              "2   im grabbing a minute to post i feel greedy wrong    anger\n",
              "3  i am ever feeling nostalgic about the fireplac...     love\n",
              "4                               i am feeling grouchy    anger"
            ],
            "text/html": [
              "\n",
              "  <div id=\"df-f6483461-0579-4096-bd80-92a289bbc412\" class=\"colab-df-container\">\n",
              "    <div>\n",
              "<style scoped>\n",
              "    .dataframe tbody tr th:only-of-type {\n",
              "        vertical-align: middle;\n",
              "    }\n",
              "\n",
              "    .dataframe tbody tr th {\n",
              "        vertical-align: top;\n",
              "    }\n",
              "\n",
              "    .dataframe thead th {\n",
              "        text-align: right;\n",
              "    }\n",
              "</style>\n",
              "<table border=\"1\" class=\"dataframe\">\n",
              "  <thead>\n",
              "    <tr style=\"text-align: right;\">\n",
              "      <th></th>\n",
              "      <th>text</th>\n",
              "      <th>label</th>\n",
              "    </tr>\n",
              "  </thead>\n",
              "  <tbody>\n",
              "    <tr>\n",
              "      <th>0</th>\n",
              "      <td>i didnt feel humiliated</td>\n",
              "      <td>sadness</td>\n",
              "    </tr>\n",
              "    <tr>\n",
              "      <th>1</th>\n",
              "      <td>i can go from feeling so hopeless to so damned...</td>\n",
              "      <td>sadness</td>\n",
              "    </tr>\n",
              "    <tr>\n",
              "      <th>2</th>\n",
              "      <td>im grabbing a minute to post i feel greedy wrong</td>\n",
              "      <td>anger</td>\n",
              "    </tr>\n",
              "    <tr>\n",
              "      <th>3</th>\n",
              "      <td>i am ever feeling nostalgic about the fireplac...</td>\n",
              "      <td>love</td>\n",
              "    </tr>\n",
              "    <tr>\n",
              "      <th>4</th>\n",
              "      <td>i am feeling grouchy</td>\n",
              "      <td>anger</td>\n",
              "    </tr>\n",
              "  </tbody>\n",
              "</table>\n",
              "</div>\n",
              "    <div class=\"colab-df-buttons\">\n",
              "\n",
              "  <div class=\"colab-df-container\">\n",
              "    <button class=\"colab-df-convert\" onclick=\"convertToInteractive('df-f6483461-0579-4096-bd80-92a289bbc412')\"\n",
              "            title=\"Convert this dataframe to an interactive table.\"\n",
              "            style=\"display:none;\">\n",
              "\n",
              "  <svg xmlns=\"http://www.w3.org/2000/svg\" height=\"24px\" viewBox=\"0 -960 960 960\">\n",
              "    <path d=\"M120-120v-720h720v720H120Zm60-500h600v-160H180v160Zm220 220h160v-160H400v160Zm0 220h160v-160H400v160ZM180-400h160v-160H180v160Zm440 0h160v-160H620v160ZM180-180h160v-160H180v160Zm440 0h160v-160H620v160Z\"/>\n",
              "  </svg>\n",
              "    </button>\n",
              "\n",
              "  <style>\n",
              "    .colab-df-container {\n",
              "      display:flex;\n",
              "      gap: 12px;\n",
              "    }\n",
              "\n",
              "    .colab-df-convert {\n",
              "      background-color: #E8F0FE;\n",
              "      border: none;\n",
              "      border-radius: 50%;\n",
              "      cursor: pointer;\n",
              "      display: none;\n",
              "      fill: #1967D2;\n",
              "      height: 32px;\n",
              "      padding: 0 0 0 0;\n",
              "      width: 32px;\n",
              "    }\n",
              "\n",
              "    .colab-df-convert:hover {\n",
              "      background-color: #E2EBFA;\n",
              "      box-shadow: 0px 1px 2px rgba(60, 64, 67, 0.3), 0px 1px 3px 1px rgba(60, 64, 67, 0.15);\n",
              "      fill: #174EA6;\n",
              "    }\n",
              "\n",
              "    .colab-df-buttons div {\n",
              "      margin-bottom: 4px;\n",
              "    }\n",
              "\n",
              "    [theme=dark] .colab-df-convert {\n",
              "      background-color: #3B4455;\n",
              "      fill: #D2E3FC;\n",
              "    }\n",
              "\n",
              "    [theme=dark] .colab-df-convert:hover {\n",
              "      background-color: #434B5C;\n",
              "      box-shadow: 0px 1px 3px 1px rgba(0, 0, 0, 0.15);\n",
              "      filter: drop-shadow(0px 1px 2px rgba(0, 0, 0, 0.3));\n",
              "      fill: #FFFFFF;\n",
              "    }\n",
              "  </style>\n",
              "\n",
              "    <script>\n",
              "      const buttonEl =\n",
              "        document.querySelector('#df-f6483461-0579-4096-bd80-92a289bbc412 button.colab-df-convert');\n",
              "      buttonEl.style.display =\n",
              "        google.colab.kernel.accessAllowed ? 'block' : 'none';\n",
              "\n",
              "      async function convertToInteractive(key) {\n",
              "        const element = document.querySelector('#df-f6483461-0579-4096-bd80-92a289bbc412');\n",
              "        const dataTable =\n",
              "          await google.colab.kernel.invokeFunction('convertToInteractive',\n",
              "                                                    [key], {});\n",
              "        if (!dataTable) return;\n",
              "\n",
              "        const docLinkHtml = 'Like what you see? Visit the ' +\n",
              "          '<a target=\"_blank\" href=https://colab.research.google.com/notebooks/data_table.ipynb>data table notebook</a>'\n",
              "          + ' to learn more about interactive tables.';\n",
              "        element.innerHTML = '';\n",
              "        dataTable['output_type'] = 'display_data';\n",
              "        await google.colab.output.renderOutput(dataTable, element);\n",
              "        const docLink = document.createElement('div');\n",
              "        docLink.innerHTML = docLinkHtml;\n",
              "        element.appendChild(docLink);\n",
              "      }\n",
              "    </script>\n",
              "  </div>\n",
              "\n",
              "\n",
              "<div id=\"df-eec5ff87-4939-41af-90cd-df4ca5bc970a\">\n",
              "  <button class=\"colab-df-quickchart\" onclick=\"quickchart('df-eec5ff87-4939-41af-90cd-df4ca5bc970a')\"\n",
              "            title=\"Suggest charts\"\n",
              "            style=\"display:none;\">\n",
              "\n",
              "<svg xmlns=\"http://www.w3.org/2000/svg\" height=\"24px\"viewBox=\"0 0 24 24\"\n",
              "     width=\"24px\">\n",
              "    <g>\n",
              "        <path d=\"M19 3H5c-1.1 0-2 .9-2 2v14c0 1.1.9 2 2 2h14c1.1 0 2-.9 2-2V5c0-1.1-.9-2-2-2zM9 17H7v-7h2v7zm4 0h-2V7h2v10zm4 0h-2v-4h2v4z\"/>\n",
              "    </g>\n",
              "</svg>\n",
              "  </button>\n",
              "\n",
              "<style>\n",
              "  .colab-df-quickchart {\n",
              "      --bg-color: #E8F0FE;\n",
              "      --fill-color: #1967D2;\n",
              "      --hover-bg-color: #E2EBFA;\n",
              "      --hover-fill-color: #174EA6;\n",
              "      --disabled-fill-color: #AAA;\n",
              "      --disabled-bg-color: #DDD;\n",
              "  }\n",
              "\n",
              "  [theme=dark] .colab-df-quickchart {\n",
              "      --bg-color: #3B4455;\n",
              "      --fill-color: #D2E3FC;\n",
              "      --hover-bg-color: #434B5C;\n",
              "      --hover-fill-color: #FFFFFF;\n",
              "      --disabled-bg-color: #3B4455;\n",
              "      --disabled-fill-color: #666;\n",
              "  }\n",
              "\n",
              "  .colab-df-quickchart {\n",
              "    background-color: var(--bg-color);\n",
              "    border: none;\n",
              "    border-radius: 50%;\n",
              "    cursor: pointer;\n",
              "    display: none;\n",
              "    fill: var(--fill-color);\n",
              "    height: 32px;\n",
              "    padding: 0;\n",
              "    width: 32px;\n",
              "  }\n",
              "\n",
              "  .colab-df-quickchart:hover {\n",
              "    background-color: var(--hover-bg-color);\n",
              "    box-shadow: 0 1px 2px rgba(60, 64, 67, 0.3), 0 1px 3px 1px rgba(60, 64, 67, 0.15);\n",
              "    fill: var(--button-hover-fill-color);\n",
              "  }\n",
              "\n",
              "  .colab-df-quickchart-complete:disabled,\n",
              "  .colab-df-quickchart-complete:disabled:hover {\n",
              "    background-color: var(--disabled-bg-color);\n",
              "    fill: var(--disabled-fill-color);\n",
              "    box-shadow: none;\n",
              "  }\n",
              "\n",
              "  .colab-df-spinner {\n",
              "    border: 2px solid var(--fill-color);\n",
              "    border-color: transparent;\n",
              "    border-bottom-color: var(--fill-color);\n",
              "    animation:\n",
              "      spin 1s steps(1) infinite;\n",
              "  }\n",
              "\n",
              "  @keyframes spin {\n",
              "    0% {\n",
              "      border-color: transparent;\n",
              "      border-bottom-color: var(--fill-color);\n",
              "      border-left-color: var(--fill-color);\n",
              "    }\n",
              "    20% {\n",
              "      border-color: transparent;\n",
              "      border-left-color: var(--fill-color);\n",
              "      border-top-color: var(--fill-color);\n",
              "    }\n",
              "    30% {\n",
              "      border-color: transparent;\n",
              "      border-left-color: var(--fill-color);\n",
              "      border-top-color: var(--fill-color);\n",
              "      border-right-color: var(--fill-color);\n",
              "    }\n",
              "    40% {\n",
              "      border-color: transparent;\n",
              "      border-right-color: var(--fill-color);\n",
              "      border-top-color: var(--fill-color);\n",
              "    }\n",
              "    60% {\n",
              "      border-color: transparent;\n",
              "      border-right-color: var(--fill-color);\n",
              "    }\n",
              "    80% {\n",
              "      border-color: transparent;\n",
              "      border-right-color: var(--fill-color);\n",
              "      border-bottom-color: var(--fill-color);\n",
              "    }\n",
              "    90% {\n",
              "      border-color: transparent;\n",
              "      border-bottom-color: var(--fill-color);\n",
              "    }\n",
              "  }\n",
              "</style>\n",
              "\n",
              "  <script>\n",
              "    async function quickchart(key) {\n",
              "      const quickchartButtonEl =\n",
              "        document.querySelector('#' + key + ' button');\n",
              "      quickchartButtonEl.disabled = true;  // To prevent multiple clicks.\n",
              "      quickchartButtonEl.classList.add('colab-df-spinner');\n",
              "      try {\n",
              "        const charts = await google.colab.kernel.invokeFunction(\n",
              "            'suggestCharts', [key], {});\n",
              "      } catch (error) {\n",
              "        console.error('Error during call to suggestCharts:', error);\n",
              "      }\n",
              "      quickchartButtonEl.classList.remove('colab-df-spinner');\n",
              "      quickchartButtonEl.classList.add('colab-df-quickchart-complete');\n",
              "    }\n",
              "    (() => {\n",
              "      let quickchartButtonEl =\n",
              "        document.querySelector('#df-eec5ff87-4939-41af-90cd-df4ca5bc970a button');\n",
              "      quickchartButtonEl.style.display =\n",
              "        google.colab.kernel.accessAllowed ? 'block' : 'none';\n",
              "    })();\n",
              "  </script>\n",
              "</div>\n",
              "\n",
              "    </div>\n",
              "  </div>\n"
            ],
            "application/vnd.google.colaboratory.intrinsic+json": {
              "type": "dataframe",
              "variable_name": "train_df",
              "summary": "{\n  \"name\": \"train_df\",\n  \"rows\": 16000,\n  \"fields\": [\n    {\n      \"column\": \"text\",\n      \"properties\": {\n        \"dtype\": \"string\",\n        \"num_unique_values\": 15969,\n        \"samples\": [\n          \"i feel rather imbicilic or at least complacent\",\n          \"i was in the bathroom i had sat down to pee it was to make me feel submissive again per instructions\",\n          \"i am thrilled with the way my skin and hair feel if you are like me you are skeptical\"\n        ],\n        \"semantic_type\": \"\",\n        \"description\": \"\"\n      }\n    },\n    {\n      \"column\": \"label\",\n      \"properties\": {\n        \"dtype\": \"category\",\n        \"num_unique_values\": 6,\n        \"samples\": [\n          \"sadness\",\n          \"anger\",\n          \"joy\"\n        ],\n        \"semantic_type\": \"\",\n        \"description\": \"\"\n      }\n    }\n  ]\n}"
            }
          },
          "metadata": {},
          "execution_count": 4
        }
      ]
    },
    {
      "cell_type": "markdown",
      "source": [
        "# Checking for null values in data"
      ],
      "metadata": {
        "id": "ZrOn_rSei7vg"
      }
    },
    {
      "cell_type": "code",
      "source": [
        "train_df.info()\n",
        "print()\n",
        "test_df.info()\n",
        "print()\n",
        "val_df.info()\n",
        "print()"
      ],
      "metadata": {
        "execution": {
          "iopub.status.busy": "2021-08-04T03:03:34.483129Z",
          "iopub.execute_input": "2021-08-04T03:03:34.483555Z",
          "iopub.status.idle": "2021-08-04T03:03:34.524857Z",
          "shell.execute_reply.started": "2021-08-04T03:03:34.483513Z",
          "shell.execute_reply": "2021-08-04T03:03:34.52372Z"
        },
        "trusted": true,
        "id": "7qcbbqM7i7vj",
        "outputId": "f0c6e375-de4a-464a-ad59-9ae7b6cb9acd",
        "colab": {
          "base_uri": "https://localhost:8080/"
        }
      },
      "execution_count": null,
      "outputs": [
        {
          "output_type": "stream",
          "name": "stdout",
          "text": [
            "<class 'pandas.core.frame.DataFrame'>\n",
            "RangeIndex: 16000 entries, 0 to 15999\n",
            "Data columns (total 2 columns):\n",
            " #   Column  Non-Null Count  Dtype \n",
            "---  ------  --------------  ----- \n",
            " 0   text    16000 non-null  object\n",
            " 1   label   16000 non-null  object\n",
            "dtypes: object(2)\n",
            "memory usage: 250.1+ KB\n",
            "\n",
            "<class 'pandas.core.frame.DataFrame'>\n",
            "RangeIndex: 2000 entries, 0 to 1999\n",
            "Data columns (total 2 columns):\n",
            " #   Column  Non-Null Count  Dtype \n",
            "---  ------  --------------  ----- \n",
            " 0   text    2000 non-null   object\n",
            " 1   label   2000 non-null   object\n",
            "dtypes: object(2)\n",
            "memory usage: 31.4+ KB\n",
            "\n",
            "<class 'pandas.core.frame.DataFrame'>\n",
            "RangeIndex: 2000 entries, 0 to 1999\n",
            "Data columns (total 2 columns):\n",
            " #   Column  Non-Null Count  Dtype \n",
            "---  ------  --------------  ----- \n",
            " 0   text    2000 non-null   object\n",
            " 1   label   2000 non-null   object\n",
            "dtypes: object(2)\n",
            "memory usage: 31.4+ KB\n",
            "\n"
          ]
        }
      ]
    },
    {
      "cell_type": "markdown",
      "source": [
        "# Distriution of labels in Train and Test data"
      ],
      "metadata": {
        "id": "GhDX_ZIQi7vl"
      }
    },
    {
      "cell_type": "code",
      "source": [
        "train_df[\"label\"].value_counts()"
      ],
      "metadata": {
        "execution": {
          "iopub.status.busy": "2021-08-04T03:03:34.526271Z",
          "iopub.execute_input": "2021-08-04T03:03:34.526674Z",
          "iopub.status.idle": "2021-08-04T03:03:34.537159Z",
          "shell.execute_reply.started": "2021-08-04T03:03:34.526641Z",
          "shell.execute_reply": "2021-08-04T03:03:34.536419Z"
        },
        "trusted": true,
        "id": "YWvfmmGxi7vn",
        "outputId": "96f41197-1f9d-49eb-b57f-f2a7d7844eee",
        "colab": {
          "base_uri": "https://localhost:8080/"
        }
      },
      "execution_count": null,
      "outputs": [
        {
          "output_type": "execute_result",
          "data": {
            "text/plain": [
              "label\n",
              "joy         5362\n",
              "sadness     4666\n",
              "anger       2159\n",
              "fear        1937\n",
              "love        1304\n",
              "surprise     572\n",
              "Name: count, dtype: int64"
            ]
          },
          "metadata": {},
          "execution_count": 6
        }
      ]
    },
    {
      "cell_type": "code",
      "source": [
        "test_df[\"label\"].value_counts()"
      ],
      "metadata": {
        "execution": {
          "iopub.status.busy": "2021-08-04T03:03:34.538125Z",
          "iopub.execute_input": "2021-08-04T03:03:34.538534Z",
          "iopub.status.idle": "2021-08-04T03:03:34.55302Z",
          "shell.execute_reply.started": "2021-08-04T03:03:34.538505Z",
          "shell.execute_reply": "2021-08-04T03:03:34.551928Z"
        },
        "trusted": true,
        "id": "5CWysGTxi7vr",
        "outputId": "9ab19dae-3152-41ee-b190-69ce7b5ab297",
        "colab": {
          "base_uri": "https://localhost:8080/"
        }
      },
      "execution_count": null,
      "outputs": [
        {
          "output_type": "execute_result",
          "data": {
            "text/plain": [
              "label\n",
              "joy         695\n",
              "sadness     581\n",
              "anger       275\n",
              "fear        224\n",
              "love        159\n",
              "surprise     66\n",
              "Name: count, dtype: int64"
            ]
          },
          "metadata": {},
          "execution_count": 7
        }
      ]
    },
    {
      "cell_type": "markdown",
      "source": [
        "# A sample text from the dataset"
      ],
      "metadata": {
        "id": "hEqwifnji7vt"
      }
    },
    {
      "cell_type": "code",
      "source": [
        "sample = train_df[\"text\"][1]\n",
        "print(sample)"
      ],
      "metadata": {
        "execution": {
          "iopub.status.busy": "2021-08-04T03:03:34.554204Z",
          "iopub.execute_input": "2021-08-04T03:03:34.554511Z",
          "iopub.status.idle": "2021-08-04T03:03:34.564291Z",
          "shell.execute_reply.started": "2021-08-04T03:03:34.554485Z",
          "shell.execute_reply": "2021-08-04T03:03:34.563578Z"
        },
        "trusted": true,
        "id": "Im5v-zuXi7vv",
        "outputId": "f99090e7-17f0-45f0-f9f1-c6cdca81a8e4",
        "colab": {
          "base_uri": "https://localhost:8080/"
        }
      },
      "execution_count": null,
      "outputs": [
        {
          "output_type": "stream",
          "name": "stdout",
          "text": [
            "i can go from feeling so hopeless to so damned hopeful just from being around someone who cares and is awake\n"
          ]
        }
      ]
    },
    {
      "cell_type": "markdown",
      "source": [
        "# Text Preprocessing\n",
        "The preprocessing is done in a few steps:\n",
        "* Lowercaseing the text\n",
        "* Removing Numbers\n",
        "* Removing Punctuations\n",
        "* Removing Stopwords"
      ],
      "metadata": {
        "id": "Jioac-yOi7vv"
      }
    },
    {
      "cell_type": "code",
      "source": [
        "import nltk\n",
        "from nltk.corpus import stopwords\n",
        "from nltk.tokenize import word_tokenize\n",
        "\n",
        "nltk.download('punkt')\n",
        "nltk.download('stopwords')\n",
        "\n",
        "stopwords = stopwords.words('english')"
      ],
      "metadata": {
        "execution": {
          "iopub.status.busy": "2021-08-04T03:03:34.565298Z",
          "iopub.execute_input": "2021-08-04T03:03:34.565735Z",
          "iopub.status.idle": "2021-08-04T03:03:35.576325Z",
          "shell.execute_reply.started": "2021-08-04T03:03:34.565707Z",
          "shell.execute_reply": "2021-08-04T03:03:35.575406Z"
        },
        "trusted": true,
        "id": "KMPqUUoYi7vx",
        "outputId": "27416a2f-17f2-4743-c3ff-954e556eda0b",
        "colab": {
          "base_uri": "https://localhost:8080/"
        }
      },
      "execution_count": null,
      "outputs": [
        {
          "output_type": "stream",
          "name": "stderr",
          "text": [
            "[nltk_data] Downloading package punkt to /root/nltk_data...\n",
            "[nltk_data]   Unzipping tokenizers/punkt.zip.\n",
            "[nltk_data] Downloading package stopwords to /root/nltk_data...\n",
            "[nltk_data]   Unzipping corpora/stopwords.zip.\n"
          ]
        }
      ]
    },
    {
      "cell_type": "code",
      "source": [
        "def lower_text(text):\n",
        "    return text.lower()\n",
        "\n",
        "def remove_number(text):\n",
        "    num = re.compile(r'[-+]?[.\\d]*[\\d]+[:,.\\d]*')\n",
        "    return num.sub(r'', text)\n",
        "\n",
        "def remove_punct(text):\n",
        "    punctuations = '@#!?+&*[]-%.:/();$=><|{}^' + \"'`\"\n",
        "    for p in punctuations:\n",
        "        text = text.replace(p, f' {p} ')\n",
        "    return text\n",
        "\n",
        "def remove_stopwords(text):\n",
        "    text = ' '.join([word for word in text.split() if word not in (stopwords)])\n",
        "    return text"
      ],
      "metadata": {
        "execution": {
          "iopub.status.busy": "2021-08-04T03:04:04.052884Z",
          "iopub.execute_input": "2021-08-04T03:04:04.053544Z",
          "iopub.status.idle": "2021-08-04T03:04:04.061622Z",
          "shell.execute_reply.started": "2021-08-04T03:04:04.053499Z",
          "shell.execute_reply": "2021-08-04T03:04:04.060399Z"
        },
        "trusted": true,
        "id": "Y17BuKGDi7vz"
      },
      "execution_count": null,
      "outputs": []
    },
    {
      "cell_type": "code",
      "source": [
        "def clean_text(text):\n",
        "    text = lower_text(text)\n",
        "    text = remove_number(text)\n",
        "    text = remove_punct(text)\n",
        "    text = remove_stopwords(text)\n",
        "\n",
        "    return text"
      ],
      "metadata": {
        "execution": {
          "iopub.status.busy": "2021-08-04T03:03:58.370157Z",
          "iopub.execute_input": "2021-08-04T03:03:58.370521Z",
          "iopub.status.idle": "2021-08-04T03:03:58.37541Z",
          "shell.execute_reply.started": "2021-08-04T03:03:58.37049Z",
          "shell.execute_reply": "2021-08-04T03:03:58.374417Z"
        },
        "trusted": true,
        "id": "0VnZyyFii7v2"
      },
      "execution_count": null,
      "outputs": []
    },
    {
      "cell_type": "code",
      "source": [
        "train_df[\"clean_text\"] = train_df[\"text\"].apply(clean_text)\n",
        "test_df[\"clean_text\"] = test_df[\"text\"].apply(clean_text)\n",
        "val_df[\"clean_text\"] = val_df[\"text\"].apply(clean_text)"
      ],
      "metadata": {
        "execution": {
          "iopub.status.busy": "2021-08-04T03:04:06.106239Z",
          "iopub.execute_input": "2021-08-04T03:04:06.106631Z",
          "iopub.status.idle": "2021-08-04T03:04:07.393562Z",
          "shell.execute_reply.started": "2021-08-04T03:04:06.106596Z",
          "shell.execute_reply": "2021-08-04T03:04:07.392574Z"
        },
        "trusted": true,
        "id": "JIzd-nadi7v3"
      },
      "execution_count": null,
      "outputs": []
    },
    {
      "cell_type": "markdown",
      "source": [
        "# Raw text vs Preprocessed Text"
      ],
      "metadata": {
        "id": "scxsQg2Yi7v4"
      }
    },
    {
      "cell_type": "code",
      "source": [
        "train_df.head()"
      ],
      "metadata": {
        "execution": {
          "iopub.status.busy": "2021-08-04T03:04:28.098173Z",
          "iopub.execute_input": "2021-08-04T03:04:28.098586Z",
          "iopub.status.idle": "2021-08-04T03:04:28.110078Z",
          "shell.execute_reply.started": "2021-08-04T03:04:28.09855Z",
          "shell.execute_reply": "2021-08-04T03:04:28.109115Z"
        },
        "trusted": true,
        "id": "GVeyafSki7v4",
        "outputId": "be36ff95-6453-41cf-bd38-d0b9c77d4d94",
        "colab": {
          "base_uri": "https://localhost:8080/",
          "height": 206
        }
      },
      "execution_count": null,
      "outputs": [
        {
          "output_type": "execute_result",
          "data": {
            "text/plain": [
              "                                                text    label  \\\n",
              "0                            i didnt feel humiliated  sadness   \n",
              "1  i can go from feeling so hopeless to so damned...  sadness   \n",
              "2   im grabbing a minute to post i feel greedy wrong    anger   \n",
              "3  i am ever feeling nostalgic about the fireplac...     love   \n",
              "4                               i am feeling grouchy    anger   \n",
              "\n",
              "                                          clean_text  \n",
              "0                              didnt feel humiliated  \n",
              "1  go feeling hopeless damned hopeful around some...  \n",
              "2          im grabbing minute post feel greedy wrong  \n",
              "3  ever feeling nostalgic fireplace know still pr...  \n",
              "4                                    feeling grouchy  "
            ],
            "text/html": [
              "\n",
              "  <div id=\"df-f7057279-1f0c-4540-9f46-bd12c1fa98a4\" class=\"colab-df-container\">\n",
              "    <div>\n",
              "<style scoped>\n",
              "    .dataframe tbody tr th:only-of-type {\n",
              "        vertical-align: middle;\n",
              "    }\n",
              "\n",
              "    .dataframe tbody tr th {\n",
              "        vertical-align: top;\n",
              "    }\n",
              "\n",
              "    .dataframe thead th {\n",
              "        text-align: right;\n",
              "    }\n",
              "</style>\n",
              "<table border=\"1\" class=\"dataframe\">\n",
              "  <thead>\n",
              "    <tr style=\"text-align: right;\">\n",
              "      <th></th>\n",
              "      <th>text</th>\n",
              "      <th>label</th>\n",
              "      <th>clean_text</th>\n",
              "    </tr>\n",
              "  </thead>\n",
              "  <tbody>\n",
              "    <tr>\n",
              "      <th>0</th>\n",
              "      <td>i didnt feel humiliated</td>\n",
              "      <td>sadness</td>\n",
              "      <td>didnt feel humiliated</td>\n",
              "    </tr>\n",
              "    <tr>\n",
              "      <th>1</th>\n",
              "      <td>i can go from feeling so hopeless to so damned...</td>\n",
              "      <td>sadness</td>\n",
              "      <td>go feeling hopeless damned hopeful around some...</td>\n",
              "    </tr>\n",
              "    <tr>\n",
              "      <th>2</th>\n",
              "      <td>im grabbing a minute to post i feel greedy wrong</td>\n",
              "      <td>anger</td>\n",
              "      <td>im grabbing minute post feel greedy wrong</td>\n",
              "    </tr>\n",
              "    <tr>\n",
              "      <th>3</th>\n",
              "      <td>i am ever feeling nostalgic about the fireplac...</td>\n",
              "      <td>love</td>\n",
              "      <td>ever feeling nostalgic fireplace know still pr...</td>\n",
              "    </tr>\n",
              "    <tr>\n",
              "      <th>4</th>\n",
              "      <td>i am feeling grouchy</td>\n",
              "      <td>anger</td>\n",
              "      <td>feeling grouchy</td>\n",
              "    </tr>\n",
              "  </tbody>\n",
              "</table>\n",
              "</div>\n",
              "    <div class=\"colab-df-buttons\">\n",
              "\n",
              "  <div class=\"colab-df-container\">\n",
              "    <button class=\"colab-df-convert\" onclick=\"convertToInteractive('df-f7057279-1f0c-4540-9f46-bd12c1fa98a4')\"\n",
              "            title=\"Convert this dataframe to an interactive table.\"\n",
              "            style=\"display:none;\">\n",
              "\n",
              "  <svg xmlns=\"http://www.w3.org/2000/svg\" height=\"24px\" viewBox=\"0 -960 960 960\">\n",
              "    <path d=\"M120-120v-720h720v720H120Zm60-500h600v-160H180v160Zm220 220h160v-160H400v160Zm0 220h160v-160H400v160ZM180-400h160v-160H180v160Zm440 0h160v-160H620v160ZM180-180h160v-160H180v160Zm440 0h160v-160H620v160Z\"/>\n",
              "  </svg>\n",
              "    </button>\n",
              "\n",
              "  <style>\n",
              "    .colab-df-container {\n",
              "      display:flex;\n",
              "      gap: 12px;\n",
              "    }\n",
              "\n",
              "    .colab-df-convert {\n",
              "      background-color: #E8F0FE;\n",
              "      border: none;\n",
              "      border-radius: 50%;\n",
              "      cursor: pointer;\n",
              "      display: none;\n",
              "      fill: #1967D2;\n",
              "      height: 32px;\n",
              "      padding: 0 0 0 0;\n",
              "      width: 32px;\n",
              "    }\n",
              "\n",
              "    .colab-df-convert:hover {\n",
              "      background-color: #E2EBFA;\n",
              "      box-shadow: 0px 1px 2px rgba(60, 64, 67, 0.3), 0px 1px 3px 1px rgba(60, 64, 67, 0.15);\n",
              "      fill: #174EA6;\n",
              "    }\n",
              "\n",
              "    .colab-df-buttons div {\n",
              "      margin-bottom: 4px;\n",
              "    }\n",
              "\n",
              "    [theme=dark] .colab-df-convert {\n",
              "      background-color: #3B4455;\n",
              "      fill: #D2E3FC;\n",
              "    }\n",
              "\n",
              "    [theme=dark] .colab-df-convert:hover {\n",
              "      background-color: #434B5C;\n",
              "      box-shadow: 0px 1px 3px 1px rgba(0, 0, 0, 0.15);\n",
              "      filter: drop-shadow(0px 1px 2px rgba(0, 0, 0, 0.3));\n",
              "      fill: #FFFFFF;\n",
              "    }\n",
              "  </style>\n",
              "\n",
              "    <script>\n",
              "      const buttonEl =\n",
              "        document.querySelector('#df-f7057279-1f0c-4540-9f46-bd12c1fa98a4 button.colab-df-convert');\n",
              "      buttonEl.style.display =\n",
              "        google.colab.kernel.accessAllowed ? 'block' : 'none';\n",
              "\n",
              "      async function convertToInteractive(key) {\n",
              "        const element = document.querySelector('#df-f7057279-1f0c-4540-9f46-bd12c1fa98a4');\n",
              "        const dataTable =\n",
              "          await google.colab.kernel.invokeFunction('convertToInteractive',\n",
              "                                                    [key], {});\n",
              "        if (!dataTable) return;\n",
              "\n",
              "        const docLinkHtml = 'Like what you see? Visit the ' +\n",
              "          '<a target=\"_blank\" href=https://colab.research.google.com/notebooks/data_table.ipynb>data table notebook</a>'\n",
              "          + ' to learn more about interactive tables.';\n",
              "        element.innerHTML = '';\n",
              "        dataTable['output_type'] = 'display_data';\n",
              "        await google.colab.output.renderOutput(dataTable, element);\n",
              "        const docLink = document.createElement('div');\n",
              "        docLink.innerHTML = docLinkHtml;\n",
              "        element.appendChild(docLink);\n",
              "      }\n",
              "    </script>\n",
              "  </div>\n",
              "\n",
              "\n",
              "<div id=\"df-78f73814-0bf2-4e3d-8bdb-7e74c64f3c4f\">\n",
              "  <button class=\"colab-df-quickchart\" onclick=\"quickchart('df-78f73814-0bf2-4e3d-8bdb-7e74c64f3c4f')\"\n",
              "            title=\"Suggest charts\"\n",
              "            style=\"display:none;\">\n",
              "\n",
              "<svg xmlns=\"http://www.w3.org/2000/svg\" height=\"24px\"viewBox=\"0 0 24 24\"\n",
              "     width=\"24px\">\n",
              "    <g>\n",
              "        <path d=\"M19 3H5c-1.1 0-2 .9-2 2v14c0 1.1.9 2 2 2h14c1.1 0 2-.9 2-2V5c0-1.1-.9-2-2-2zM9 17H7v-7h2v7zm4 0h-2V7h2v10zm4 0h-2v-4h2v4z\"/>\n",
              "    </g>\n",
              "</svg>\n",
              "  </button>\n",
              "\n",
              "<style>\n",
              "  .colab-df-quickchart {\n",
              "      --bg-color: #E8F0FE;\n",
              "      --fill-color: #1967D2;\n",
              "      --hover-bg-color: #E2EBFA;\n",
              "      --hover-fill-color: #174EA6;\n",
              "      --disabled-fill-color: #AAA;\n",
              "      --disabled-bg-color: #DDD;\n",
              "  }\n",
              "\n",
              "  [theme=dark] .colab-df-quickchart {\n",
              "      --bg-color: #3B4455;\n",
              "      --fill-color: #D2E3FC;\n",
              "      --hover-bg-color: #434B5C;\n",
              "      --hover-fill-color: #FFFFFF;\n",
              "      --disabled-bg-color: #3B4455;\n",
              "      --disabled-fill-color: #666;\n",
              "  }\n",
              "\n",
              "  .colab-df-quickchart {\n",
              "    background-color: var(--bg-color);\n",
              "    border: none;\n",
              "    border-radius: 50%;\n",
              "    cursor: pointer;\n",
              "    display: none;\n",
              "    fill: var(--fill-color);\n",
              "    height: 32px;\n",
              "    padding: 0;\n",
              "    width: 32px;\n",
              "  }\n",
              "\n",
              "  .colab-df-quickchart:hover {\n",
              "    background-color: var(--hover-bg-color);\n",
              "    box-shadow: 0 1px 2px rgba(60, 64, 67, 0.3), 0 1px 3px 1px rgba(60, 64, 67, 0.15);\n",
              "    fill: var(--button-hover-fill-color);\n",
              "  }\n",
              "\n",
              "  .colab-df-quickchart-complete:disabled,\n",
              "  .colab-df-quickchart-complete:disabled:hover {\n",
              "    background-color: var(--disabled-bg-color);\n",
              "    fill: var(--disabled-fill-color);\n",
              "    box-shadow: none;\n",
              "  }\n",
              "\n",
              "  .colab-df-spinner {\n",
              "    border: 2px solid var(--fill-color);\n",
              "    border-color: transparent;\n",
              "    border-bottom-color: var(--fill-color);\n",
              "    animation:\n",
              "      spin 1s steps(1) infinite;\n",
              "  }\n",
              "\n",
              "  @keyframes spin {\n",
              "    0% {\n",
              "      border-color: transparent;\n",
              "      border-bottom-color: var(--fill-color);\n",
              "      border-left-color: var(--fill-color);\n",
              "    }\n",
              "    20% {\n",
              "      border-color: transparent;\n",
              "      border-left-color: var(--fill-color);\n",
              "      border-top-color: var(--fill-color);\n",
              "    }\n",
              "    30% {\n",
              "      border-color: transparent;\n",
              "      border-left-color: var(--fill-color);\n",
              "      border-top-color: var(--fill-color);\n",
              "      border-right-color: var(--fill-color);\n",
              "    }\n",
              "    40% {\n",
              "      border-color: transparent;\n",
              "      border-right-color: var(--fill-color);\n",
              "      border-top-color: var(--fill-color);\n",
              "    }\n",
              "    60% {\n",
              "      border-color: transparent;\n",
              "      border-right-color: var(--fill-color);\n",
              "    }\n",
              "    80% {\n",
              "      border-color: transparent;\n",
              "      border-right-color: var(--fill-color);\n",
              "      border-bottom-color: var(--fill-color);\n",
              "    }\n",
              "    90% {\n",
              "      border-color: transparent;\n",
              "      border-bottom-color: var(--fill-color);\n",
              "    }\n",
              "  }\n",
              "</style>\n",
              "\n",
              "  <script>\n",
              "    async function quickchart(key) {\n",
              "      const quickchartButtonEl =\n",
              "        document.querySelector('#' + key + ' button');\n",
              "      quickchartButtonEl.disabled = true;  // To prevent multiple clicks.\n",
              "      quickchartButtonEl.classList.add('colab-df-spinner');\n",
              "      try {\n",
              "        const charts = await google.colab.kernel.invokeFunction(\n",
              "            'suggestCharts', [key], {});\n",
              "      } catch (error) {\n",
              "        console.error('Error during call to suggestCharts:', error);\n",
              "      }\n",
              "      quickchartButtonEl.classList.remove('colab-df-spinner');\n",
              "      quickchartButtonEl.classList.add('colab-df-quickchart-complete');\n",
              "    }\n",
              "    (() => {\n",
              "      let quickchartButtonEl =\n",
              "        document.querySelector('#df-78f73814-0bf2-4e3d-8bdb-7e74c64f3c4f button');\n",
              "      quickchartButtonEl.style.display =\n",
              "        google.colab.kernel.accessAllowed ? 'block' : 'none';\n",
              "    })();\n",
              "  </script>\n",
              "</div>\n",
              "\n",
              "    </div>\n",
              "  </div>\n"
            ],
            "application/vnd.google.colaboratory.intrinsic+json": {
              "type": "dataframe",
              "variable_name": "train_df",
              "summary": "{\n  \"name\": \"train_df\",\n  \"rows\": 16000,\n  \"fields\": [\n    {\n      \"column\": \"text\",\n      \"properties\": {\n        \"dtype\": \"string\",\n        \"num_unique_values\": 15969,\n        \"samples\": [\n          \"i feel rather imbicilic or at least complacent\",\n          \"i was in the bathroom i had sat down to pee it was to make me feel submissive again per instructions\",\n          \"i am thrilled with the way my skin and hair feel if you are like me you are skeptical\"\n        ],\n        \"semantic_type\": \"\",\n        \"description\": \"\"\n      }\n    },\n    {\n      \"column\": \"label\",\n      \"properties\": {\n        \"dtype\": \"category\",\n        \"num_unique_values\": 6,\n        \"samples\": [\n          \"sadness\",\n          \"anger\",\n          \"joy\"\n        ],\n        \"semantic_type\": \"\",\n        \"description\": \"\"\n      }\n    },\n    {\n      \"column\": \"clean_text\",\n      \"properties\": {\n        \"dtype\": \"string\",\n        \"num_unique_values\": 15880,\n        \"samples\": [\n          \"dont know feel seems sincere\",\n          \"feel blank loss hey old hat\",\n          \"throw ocean feel would missed something career win oscar\"\n        ],\n        \"semantic_type\": \"\",\n        \"description\": \"\"\n      }\n    }\n  ]\n}"
            }
          },
          "metadata": {},
          "execution_count": 13
        }
      ]
    },
    {
      "cell_type": "markdown",
      "source": [
        "# Label Encoding Labels\n",
        "This means replcing String objects as labels with integer values"
      ],
      "metadata": {
        "id": "ZHs1aTXqi7v6"
      }
    },
    {
      "cell_type": "code",
      "source": [
        "from sklearn.preprocessing import LabelEncoder\n",
        "\n",
        "label_encoder = LabelEncoder()\n",
        "train_df[\"encoded_train_label\"] = label_encoder.fit_transform(train_df[\"label\"])\n",
        "val_df[\"encoded_val_label\"] = label_encoder.transform(val_df[\"label\"])\n",
        "test_df[\"encoded_test_label\"] = label_encoder.transform(test_df[\"label\"])"
      ],
      "metadata": {
        "execution": {
          "iopub.status.busy": "2021-08-04T03:06:19.365484Z",
          "iopub.execute_input": "2021-08-04T03:06:19.36604Z",
          "iopub.status.idle": "2021-08-04T03:06:19.380905Z",
          "shell.execute_reply.started": "2021-08-04T03:06:19.36599Z",
          "shell.execute_reply": "2021-08-04T03:06:19.379817Z"
        },
        "trusted": true,
        "id": "4zg-DRKPi7v8"
      },
      "execution_count": null,
      "outputs": []
    },
    {
      "cell_type": "code",
      "source": [
        "train_df[['label', 'encoded_train_label']].drop_duplicates(keep='first')"
      ],
      "metadata": {
        "execution": {
          "iopub.status.busy": "2021-08-04T03:08:29.588858Z",
          "iopub.execute_input": "2021-08-04T03:08:29.589213Z",
          "iopub.status.idle": "2021-08-04T03:08:29.609651Z",
          "shell.execute_reply.started": "2021-08-04T03:08:29.589183Z",
          "shell.execute_reply": "2021-08-04T03:08:29.608593Z"
        },
        "trusted": true,
        "id": "Y52s5eVQi7v9",
        "outputId": "04f25e3f-2026-4212-db85-b845ba47281e",
        "colab": {
          "base_uri": "https://localhost:8080/",
          "height": 237
        }
      },
      "execution_count": null,
      "outputs": [
        {
          "output_type": "execute_result",
          "data": {
            "text/plain": [
              "      label  encoded_train_label\n",
              "0   sadness                    4\n",
              "2     anger                    0\n",
              "3      love                    3\n",
              "6  surprise                    5\n",
              "7      fear                    1\n",
              "8       joy                    2"
            ],
            "text/html": [
              "\n",
              "  <div id=\"df-b6c8bd37-b496-49c9-bb7d-48df997e45ac\" class=\"colab-df-container\">\n",
              "    <div>\n",
              "<style scoped>\n",
              "    .dataframe tbody tr th:only-of-type {\n",
              "        vertical-align: middle;\n",
              "    }\n",
              "\n",
              "    .dataframe tbody tr th {\n",
              "        vertical-align: top;\n",
              "    }\n",
              "\n",
              "    .dataframe thead th {\n",
              "        text-align: right;\n",
              "    }\n",
              "</style>\n",
              "<table border=\"1\" class=\"dataframe\">\n",
              "  <thead>\n",
              "    <tr style=\"text-align: right;\">\n",
              "      <th></th>\n",
              "      <th>label</th>\n",
              "      <th>encoded_train_label</th>\n",
              "    </tr>\n",
              "  </thead>\n",
              "  <tbody>\n",
              "    <tr>\n",
              "      <th>0</th>\n",
              "      <td>sadness</td>\n",
              "      <td>4</td>\n",
              "    </tr>\n",
              "    <tr>\n",
              "      <th>2</th>\n",
              "      <td>anger</td>\n",
              "      <td>0</td>\n",
              "    </tr>\n",
              "    <tr>\n",
              "      <th>3</th>\n",
              "      <td>love</td>\n",
              "      <td>3</td>\n",
              "    </tr>\n",
              "    <tr>\n",
              "      <th>6</th>\n",
              "      <td>surprise</td>\n",
              "      <td>5</td>\n",
              "    </tr>\n",
              "    <tr>\n",
              "      <th>7</th>\n",
              "      <td>fear</td>\n",
              "      <td>1</td>\n",
              "    </tr>\n",
              "    <tr>\n",
              "      <th>8</th>\n",
              "      <td>joy</td>\n",
              "      <td>2</td>\n",
              "    </tr>\n",
              "  </tbody>\n",
              "</table>\n",
              "</div>\n",
              "    <div class=\"colab-df-buttons\">\n",
              "\n",
              "  <div class=\"colab-df-container\">\n",
              "    <button class=\"colab-df-convert\" onclick=\"convertToInteractive('df-b6c8bd37-b496-49c9-bb7d-48df997e45ac')\"\n",
              "            title=\"Convert this dataframe to an interactive table.\"\n",
              "            style=\"display:none;\">\n",
              "\n",
              "  <svg xmlns=\"http://www.w3.org/2000/svg\" height=\"24px\" viewBox=\"0 -960 960 960\">\n",
              "    <path d=\"M120-120v-720h720v720H120Zm60-500h600v-160H180v160Zm220 220h160v-160H400v160Zm0 220h160v-160H400v160ZM180-400h160v-160H180v160Zm440 0h160v-160H620v160ZM180-180h160v-160H180v160Zm440 0h160v-160H620v160Z\"/>\n",
              "  </svg>\n",
              "    </button>\n",
              "\n",
              "  <style>\n",
              "    .colab-df-container {\n",
              "      display:flex;\n",
              "      gap: 12px;\n",
              "    }\n",
              "\n",
              "    .colab-df-convert {\n",
              "      background-color: #E8F0FE;\n",
              "      border: none;\n",
              "      border-radius: 50%;\n",
              "      cursor: pointer;\n",
              "      display: none;\n",
              "      fill: #1967D2;\n",
              "      height: 32px;\n",
              "      padding: 0 0 0 0;\n",
              "      width: 32px;\n",
              "    }\n",
              "\n",
              "    .colab-df-convert:hover {\n",
              "      background-color: #E2EBFA;\n",
              "      box-shadow: 0px 1px 2px rgba(60, 64, 67, 0.3), 0px 1px 3px 1px rgba(60, 64, 67, 0.15);\n",
              "      fill: #174EA6;\n",
              "    }\n",
              "\n",
              "    .colab-df-buttons div {\n",
              "      margin-bottom: 4px;\n",
              "    }\n",
              "\n",
              "    [theme=dark] .colab-df-convert {\n",
              "      background-color: #3B4455;\n",
              "      fill: #D2E3FC;\n",
              "    }\n",
              "\n",
              "    [theme=dark] .colab-df-convert:hover {\n",
              "      background-color: #434B5C;\n",
              "      box-shadow: 0px 1px 3px 1px rgba(0, 0, 0, 0.15);\n",
              "      filter: drop-shadow(0px 1px 2px rgba(0, 0, 0, 0.3));\n",
              "      fill: #FFFFFF;\n",
              "    }\n",
              "  </style>\n",
              "\n",
              "    <script>\n",
              "      const buttonEl =\n",
              "        document.querySelector('#df-b6c8bd37-b496-49c9-bb7d-48df997e45ac button.colab-df-convert');\n",
              "      buttonEl.style.display =\n",
              "        google.colab.kernel.accessAllowed ? 'block' : 'none';\n",
              "\n",
              "      async function convertToInteractive(key) {\n",
              "        const element = document.querySelector('#df-b6c8bd37-b496-49c9-bb7d-48df997e45ac');\n",
              "        const dataTable =\n",
              "          await google.colab.kernel.invokeFunction('convertToInteractive',\n",
              "                                                    [key], {});\n",
              "        if (!dataTable) return;\n",
              "\n",
              "        const docLinkHtml = 'Like what you see? Visit the ' +\n",
              "          '<a target=\"_blank\" href=https://colab.research.google.com/notebooks/data_table.ipynb>data table notebook</a>'\n",
              "          + ' to learn more about interactive tables.';\n",
              "        element.innerHTML = '';\n",
              "        dataTable['output_type'] = 'display_data';\n",
              "        await google.colab.output.renderOutput(dataTable, element);\n",
              "        const docLink = document.createElement('div');\n",
              "        docLink.innerHTML = docLinkHtml;\n",
              "        element.appendChild(docLink);\n",
              "      }\n",
              "    </script>\n",
              "  </div>\n",
              "\n",
              "\n",
              "<div id=\"df-f6869357-1a82-4a1f-9e44-d00c3bc8ce26\">\n",
              "  <button class=\"colab-df-quickchart\" onclick=\"quickchart('df-f6869357-1a82-4a1f-9e44-d00c3bc8ce26')\"\n",
              "            title=\"Suggest charts\"\n",
              "            style=\"display:none;\">\n",
              "\n",
              "<svg xmlns=\"http://www.w3.org/2000/svg\" height=\"24px\"viewBox=\"0 0 24 24\"\n",
              "     width=\"24px\">\n",
              "    <g>\n",
              "        <path d=\"M19 3H5c-1.1 0-2 .9-2 2v14c0 1.1.9 2 2 2h14c1.1 0 2-.9 2-2V5c0-1.1-.9-2-2-2zM9 17H7v-7h2v7zm4 0h-2V7h2v10zm4 0h-2v-4h2v4z\"/>\n",
              "    </g>\n",
              "</svg>\n",
              "  </button>\n",
              "\n",
              "<style>\n",
              "  .colab-df-quickchart {\n",
              "      --bg-color: #E8F0FE;\n",
              "      --fill-color: #1967D2;\n",
              "      --hover-bg-color: #E2EBFA;\n",
              "      --hover-fill-color: #174EA6;\n",
              "      --disabled-fill-color: #AAA;\n",
              "      --disabled-bg-color: #DDD;\n",
              "  }\n",
              "\n",
              "  [theme=dark] .colab-df-quickchart {\n",
              "      --bg-color: #3B4455;\n",
              "      --fill-color: #D2E3FC;\n",
              "      --hover-bg-color: #434B5C;\n",
              "      --hover-fill-color: #FFFFFF;\n",
              "      --disabled-bg-color: #3B4455;\n",
              "      --disabled-fill-color: #666;\n",
              "  }\n",
              "\n",
              "  .colab-df-quickchart {\n",
              "    background-color: var(--bg-color);\n",
              "    border: none;\n",
              "    border-radius: 50%;\n",
              "    cursor: pointer;\n",
              "    display: none;\n",
              "    fill: var(--fill-color);\n",
              "    height: 32px;\n",
              "    padding: 0;\n",
              "    width: 32px;\n",
              "  }\n",
              "\n",
              "  .colab-df-quickchart:hover {\n",
              "    background-color: var(--hover-bg-color);\n",
              "    box-shadow: 0 1px 2px rgba(60, 64, 67, 0.3), 0 1px 3px 1px rgba(60, 64, 67, 0.15);\n",
              "    fill: var(--button-hover-fill-color);\n",
              "  }\n",
              "\n",
              "  .colab-df-quickchart-complete:disabled,\n",
              "  .colab-df-quickchart-complete:disabled:hover {\n",
              "    background-color: var(--disabled-bg-color);\n",
              "    fill: var(--disabled-fill-color);\n",
              "    box-shadow: none;\n",
              "  }\n",
              "\n",
              "  .colab-df-spinner {\n",
              "    border: 2px solid var(--fill-color);\n",
              "    border-color: transparent;\n",
              "    border-bottom-color: var(--fill-color);\n",
              "    animation:\n",
              "      spin 1s steps(1) infinite;\n",
              "  }\n",
              "\n",
              "  @keyframes spin {\n",
              "    0% {\n",
              "      border-color: transparent;\n",
              "      border-bottom-color: var(--fill-color);\n",
              "      border-left-color: var(--fill-color);\n",
              "    }\n",
              "    20% {\n",
              "      border-color: transparent;\n",
              "      border-left-color: var(--fill-color);\n",
              "      border-top-color: var(--fill-color);\n",
              "    }\n",
              "    30% {\n",
              "      border-color: transparent;\n",
              "      border-left-color: var(--fill-color);\n",
              "      border-top-color: var(--fill-color);\n",
              "      border-right-color: var(--fill-color);\n",
              "    }\n",
              "    40% {\n",
              "      border-color: transparent;\n",
              "      border-right-color: var(--fill-color);\n",
              "      border-top-color: var(--fill-color);\n",
              "    }\n",
              "    60% {\n",
              "      border-color: transparent;\n",
              "      border-right-color: var(--fill-color);\n",
              "    }\n",
              "    80% {\n",
              "      border-color: transparent;\n",
              "      border-right-color: var(--fill-color);\n",
              "      border-bottom-color: var(--fill-color);\n",
              "    }\n",
              "    90% {\n",
              "      border-color: transparent;\n",
              "      border-bottom-color: var(--fill-color);\n",
              "    }\n",
              "  }\n",
              "</style>\n",
              "\n",
              "  <script>\n",
              "    async function quickchart(key) {\n",
              "      const quickchartButtonEl =\n",
              "        document.querySelector('#' + key + ' button');\n",
              "      quickchartButtonEl.disabled = true;  // To prevent multiple clicks.\n",
              "      quickchartButtonEl.classList.add('colab-df-spinner');\n",
              "      try {\n",
              "        const charts = await google.colab.kernel.invokeFunction(\n",
              "            'suggestCharts', [key], {});\n",
              "      } catch (error) {\n",
              "        console.error('Error during call to suggestCharts:', error);\n",
              "      }\n",
              "      quickchartButtonEl.classList.remove('colab-df-spinner');\n",
              "      quickchartButtonEl.classList.add('colab-df-quickchart-complete');\n",
              "    }\n",
              "    (() => {\n",
              "      let quickchartButtonEl =\n",
              "        document.querySelector('#df-f6869357-1a82-4a1f-9e44-d00c3bc8ce26 button');\n",
              "      quickchartButtonEl.style.display =\n",
              "        google.colab.kernel.accessAllowed ? 'block' : 'none';\n",
              "    })();\n",
              "  </script>\n",
              "</div>\n",
              "\n",
              "    </div>\n",
              "  </div>\n"
            ],
            "application/vnd.google.colaboratory.intrinsic+json": {
              "type": "dataframe",
              "summary": "{\n  \"name\": \"train_df[['label', 'encoded_train_label']]\",\n  \"rows\": 6,\n  \"fields\": [\n    {\n      \"column\": \"label\",\n      \"properties\": {\n        \"dtype\": \"string\",\n        \"num_unique_values\": 6,\n        \"samples\": [\n          \"sadness\",\n          \"anger\",\n          \"joy\"\n        ],\n        \"semantic_type\": \"\",\n        \"description\": \"\"\n      }\n    },\n    {\n      \"column\": \"encoded_train_label\",\n      \"properties\": {\n        \"dtype\": \"number\",\n        \"std\": 1,\n        \"min\": 0,\n        \"max\": 5,\n        \"num_unique_values\": 6,\n        \"samples\": [\n          4,\n          0,\n          2\n        ],\n        \"semantic_type\": \"\",\n        \"description\": \"\"\n      }\n    }\n  ]\n}"
            }
          },
          "metadata": {},
          "execution_count": 15
        }
      ]
    },
    {
      "cell_type": "code",
      "source": [
        "x_train, x_test, y_train, y_test = train_df[\"clean_text\"], val_df[\"clean_text\"], train_df[\"encoded_train_label\"], val_df[\"encoded_val_label\"]"
      ],
      "metadata": {
        "execution": {
          "iopub.status.busy": "2021-08-04T03:09:35.192156Z",
          "iopub.execute_input": "2021-08-04T03:09:35.192544Z",
          "iopub.status.idle": "2021-08-04T03:09:35.198675Z",
          "shell.execute_reply.started": "2021-08-04T03:09:35.192511Z",
          "shell.execute_reply": "2021-08-04T03:09:35.197791Z"
        },
        "trusted": true,
        "id": "Y67GGUFIi7v-"
      },
      "execution_count": null,
      "outputs": []
    },
    {
      "cell_type": "code",
      "source": [
        "pip install np_utils"
      ],
      "metadata": {
        "id": "mDaVHVcykyY_",
        "outputId": "de66a09f-883c-4746-a1fe-bf465cb6d0d0",
        "colab": {
          "base_uri": "https://localhost:8080/"
        }
      },
      "execution_count": null,
      "outputs": [
        {
          "output_type": "stream",
          "name": "stdout",
          "text": [
            "Collecting np_utils\n",
            "  Downloading np_utils-0.6.0.tar.gz (61 kB)\n",
            "\u001b[2K     \u001b[90m━━━━━━━━━━━━━━━━━━━━━━━━━━━━━━━━━━━━━━━━\u001b[0m \u001b[32m62.0/62.0 kB\u001b[0m \u001b[31m943.6 kB/s\u001b[0m eta \u001b[36m0:00:00\u001b[0m\n",
            "\u001b[?25h  Preparing metadata (setup.py) ... \u001b[?25l\u001b[?25hdone\n",
            "Requirement already satisfied: numpy>=1.0 in /usr/local/lib/python3.10/dist-packages (from np_utils) (1.25.2)\n",
            "Building wheels for collected packages: np_utils\n",
            "  Building wheel for np_utils (setup.py) ... \u001b[?25l\u001b[?25hdone\n",
            "  Created wheel for np_utils: filename=np_utils-0.6.0-py3-none-any.whl size=56441 sha256=383eee4fbb9f5f92b692dadef2d93b2c4a3769d849112d468a719f3a410729c8\n",
            "  Stored in directory: /root/.cache/pip/wheels/b6/c7/50/2307607f44366dd021209f660045f8d51cb976514d30be7cc7\n",
            "Successfully built np_utils\n",
            "Installing collected packages: np_utils\n",
            "Successfully installed np_utils-0.6.0\n"
          ]
        }
      ]
    },
    {
      "cell_type": "code",
      "source": [
        "pip install keras\n"
      ],
      "metadata": {
        "id": "tWiF6yChlf5t",
        "outputId": "5d37478d-fc43-4ef6-ca11-3631e16cb5d8",
        "colab": {
          "base_uri": "https://localhost:8080/"
        }
      },
      "execution_count": null,
      "outputs": [
        {
          "output_type": "stream",
          "name": "stdout",
          "text": [
            "Requirement already satisfied: keras in /usr/local/lib/python3.10/dist-packages (2.15.0)\n"
          ]
        }
      ]
    },
    {
      "cell_type": "code",
      "source": [
        "import tensorflow as tf\n",
        "from tf.keras.utils import to_categorical\n",
        "from keras.utils import to_categorical"
      ],
      "metadata": {
        "id": "4jtKdQS5mcM1"
      },
      "execution_count": null,
      "outputs": []
    },
    {
      "cell_type": "code",
      "source": [
        "# from keras.utils import np_utils\n",
        "# from tensorflow.keras.utils import to_categorical\n",
        "from keras.preprocessing.text import Tokenizer\n",
        "from keras.preprocessing.sequence import pad_sequences\n",
        "\n",
        "\n",
        "from keras import layers\n",
        "from keras.models import Sequential\n",
        "\n",
        "EPOCHS= 30\n",
        "act= \"swish\"\n",
        "opt= tf.keras.optimizers.Adam(learning_rate=0.001)"
      ],
      "metadata": {
        "execution": {
          "iopub.status.busy": "2021-08-04T03:09:53.812644Z",
          "iopub.execute_input": "2021-08-04T03:09:53.813196Z",
          "iopub.status.idle": "2021-08-04T03:09:59.608184Z",
          "shell.execute_reply.started": "2021-08-04T03:09:53.813164Z",
          "shell.execute_reply": "2021-08-04T03:09:59.607193Z"
        },
        "trusted": true,
        "id": "EWnTnW8ci7v_"
      },
      "execution_count": null,
      "outputs": []
    },
    {
      "cell_type": "markdown",
      "source": [
        "# Converting texts to vectors via tokenization"
      ],
      "metadata": {
        "id": "UraFw_i1i7wA"
      }
    },
    {
      "cell_type": "code",
      "source": [
        "tokenizer = Tokenizer()\n",
        "tokenizer.fit_on_texts(x_train)\n",
        "\n",
        "X_train = tokenizer.texts_to_sequences(x_train)\n",
        "X_test = tokenizer.texts_to_sequences(x_test)\n",
        "TEST = tokenizer.texts_to_sequences(test_df[\"clean_text\"])\n",
        "\n",
        "vocab_size = len(tokenizer.word_index) + 1"
      ],
      "metadata": {
        "execution": {
          "iopub.status.busy": "2021-08-04T03:10:31.168398Z",
          "iopub.execute_input": "2021-08-04T03:10:31.168781Z",
          "iopub.status.idle": "2021-08-04T03:10:31.720648Z",
          "shell.execute_reply.started": "2021-08-04T03:10:31.16874Z",
          "shell.execute_reply": "2021-08-04T03:10:31.719691Z"
        },
        "trusted": true,
        "id": "s6FYyTjLi7wA"
      },
      "execution_count": null,
      "outputs": []
    },
    {
      "cell_type": "markdown",
      "source": [
        "# Calculating maximum length of a vector"
      ],
      "metadata": {
        "id": "2cmc2K99i7wB"
      }
    },
    {
      "cell_type": "code",
      "source": [
        "lens_train = [len(i) for i in X_train]\n",
        "lens_test = [len(i) for i in X_test]\n",
        "lens = lens_train + lens_test\n",
        "\n",
        "maxlen = np.max(lens)\n",
        "\n",
        "print('Max len:', maxlen)"
      ],
      "metadata": {
        "execution": {
          "iopub.status.busy": "2021-08-04T03:10:39.932303Z",
          "iopub.execute_input": "2021-08-04T03:10:39.932679Z",
          "iopub.status.idle": "2021-08-04T03:10:39.94418Z",
          "shell.execute_reply.started": "2021-08-04T03:10:39.93265Z",
          "shell.execute_reply": "2021-08-04T03:10:39.943222Z"
        },
        "trusted": true,
        "id": "KSkq_qmqi7wC",
        "outputId": "06a9168f-a004-40cd-986e-17ea95aa9b5f",
        "colab": {
          "base_uri": "https://localhost:8080/"
        }
      },
      "execution_count": null,
      "outputs": [
        {
          "output_type": "stream",
          "name": "stdout",
          "text": [
            "Max len: 35\n"
          ]
        }
      ]
    },
    {
      "cell_type": "markdown",
      "source": [
        "# Zero padding every vector so that they are the same size"
      ],
      "metadata": {
        "id": "mVgKrV_si7wE"
      }
    },
    {
      "cell_type": "code",
      "source": [
        "X_train = pad_sequences(X_train, padding='post', maxlen=maxlen)\n",
        "X_test = pad_sequences(X_test, padding='post', maxlen=maxlen)\n",
        "TEST = pad_sequences(TEST, padding='post', maxlen=maxlen)"
      ],
      "metadata": {
        "execution": {
          "iopub.status.busy": "2021-08-04T03:10:48.215317Z",
          "iopub.execute_input": "2021-08-04T03:10:48.215753Z",
          "iopub.status.idle": "2021-08-04T03:10:48.384717Z",
          "shell.execute_reply.started": "2021-08-04T03:10:48.215718Z",
          "shell.execute_reply": "2021-08-04T03:10:48.383675Z"
        },
        "trusted": true,
        "id": "7hjhFS8_i7wG"
      },
      "execution_count": null,
      "outputs": []
    },
    {
      "cell_type": "markdown",
      "source": [
        "# One Hot Encoding integer labels"
      ],
      "metadata": {
        "id": "Ax1A62M7i7wI"
      }
    },
    {
      "cell_type": "code",
      "source": [
        "from keras.utils import to_categorical\n",
        "from tensorflow.keras.utils import to_categorical"
      ],
      "metadata": {
        "id": "XqRun_wHmopT"
      },
      "execution_count": null,
      "outputs": []
    },
    {
      "cell_type": "code",
      "source": [
        "from tensorflow.keras.utils import to_categorical\n"
      ],
      "metadata": {
        "id": "r5n4nZLam7Dy"
      },
      "execution_count": null,
      "outputs": []
    },
    {
      "cell_type": "code",
      "source": [
        "dummy_y_test = to_categorical(y_test)\n",
        "dummy_y_train = to_categorical(y_train)"
      ],
      "metadata": {
        "execution": {
          "iopub.status.busy": "2021-08-04T03:10:55.965019Z",
          "iopub.execute_input": "2021-08-04T03:10:55.965414Z",
          "iopub.status.idle": "2021-08-04T03:10:55.970595Z",
          "shell.execute_reply.started": "2021-08-04T03:10:55.965378Z",
          "shell.execute_reply": "2021-08-04T03:10:55.969855Z"
        },
        "trusted": true,
        "id": "WMBJbL1ri7wM"
      },
      "execution_count": null,
      "outputs": []
    },
    {
      "cell_type": "markdown",
      "source": [
        "# Reading GloVe"
      ],
      "metadata": {
        "id": "WEDsA16Oi7wN"
      }
    },
    {
      "cell_type": "code",
      "source": [
        "def get_embedding_vectors(tokenizer, dim=300):\n",
        "    embedding_index = {}\n",
        "    with open('../input/glove840b300dtxt/glove.840B.300d.txt','r') as f:\n",
        "        for line in tqdm.tqdm(f, \"Reading GloVe\"):\n",
        "            values = line.split()\n",
        "            word = ''.join(values[:-300])\n",
        "            vectors = np.asarray(values[-300:], dtype='float32')\n",
        "            embedding_index[word] = vectors\n",
        "\n",
        "    word_index = tokenizer.word_index\n",
        "    embedding_matrix = np.zeros((len(word_index)+1, dim))\n",
        "    for word, i in word_index.items():\n",
        "        embedding_vector = embedding_index.get(word)\n",
        "        if embedding_vector is not None:\n",
        "            # words not found will be 0s\n",
        "            embedding_matrix[i] = embedding_vector\n",
        "\n",
        "    return embedding_matrix"
      ],
      "metadata": {
        "execution": {
          "iopub.status.busy": "2021-08-04T03:16:51.414622Z",
          "iopub.execute_input": "2021-08-04T03:16:51.415027Z",
          "iopub.status.idle": "2021-08-04T03:16:51.422844Z",
          "shell.execute_reply.started": "2021-08-04T03:16:51.414993Z",
          "shell.execute_reply": "2021-08-04T03:16:51.421899Z"
        },
        "trusted": true,
        "id": "Zs_2ZChni7wO"
      },
      "execution_count": null,
      "outputs": []
    },
    {
      "cell_type": "code",
      "source": [
        "embedding_matrix = get_embedding_vectors(tokenizer)"
      ],
      "metadata": {
        "execution": {
          "iopub.status.busy": "2021-08-04T03:16:54.57265Z",
          "iopub.execute_input": "2021-08-04T03:16:54.573019Z",
          "iopub.status.idle": "2021-08-04T03:21:50.855734Z",
          "shell.execute_reply.started": "2021-08-04T03:16:54.572983Z",
          "shell.execute_reply": "2021-08-04T03:21:50.854829Z"
        },
        "trusted": true,
        "id": "kpofmGYDi7wP",
        "outputId": "4c0a2fb6-fa1b-4bac-d094-f21d1d60a189",
        "colab": {
          "base_uri": "https://localhost:8080/"
        }
      },
      "execution_count": null,
      "outputs": [
        {
          "metadata": {
            "tags": null
          },
          "name": "stderr",
          "output_type": "stream",
          "text": [
            "Reading GloVe: 2196018it [03:11, 11471.04it/s]\n"
          ]
        }
      ]
    },
    {
      "cell_type": "markdown",
      "source": [
        "# Defining CNN-BiLSTM model"
      ],
      "metadata": {
        "id": "JDNPkFWYi7wQ"
      }
    },
    {
      "cell_type": "code",
      "source": [
        "embedding_dim = 300\n",
        "\n",
        "model = Sequential()\n",
        "model.add(layers.Embedding(input_dim=vocab_size, output_dim=embedding_dim, weights = [embedding_matrix], input_length=maxlen))\n",
        "model.add(layers.Dropout(0.3))\n",
        "model.add(layers.Conv1D(filters=32, kernel_size=3, activation=act))\n",
        "model.add(layers.MaxPool1D(pool_size=3))\n",
        "model.add(layers.Dropout(0.3))\n",
        "model.add(layers.Conv1D(filters=32, kernel_size=3, activation=act))\n",
        "model.add(layers.MaxPool1D(pool_size=3))\n",
        "model.add(layers.Dropout(0.3))\n",
        "model.add(layers.Bidirectional(layers.LSTM(256, recurrent_dropout=0.3)))\n",
        "model.add(layers.Dropout(0.3))\n",
        "model.add(layers.Dense(256,activation=act))\n",
        "model.add(layers.Dropout(0.3))\n",
        "model.add(layers.Dense(6, activation=\"softmax\"))\n",
        "model.compile(optimizer=opt, loss=\"categorical_crossentropy\",metrics=[\"accuracy\"])\n",
        "model.summary()"
      ],
      "metadata": {
        "execution": {
          "iopub.status.busy": "2021-08-04T03:21:50.857348Z",
          "iopub.execute_input": "2021-08-04T03:21:50.857695Z",
          "iopub.status.idle": "2021-08-04T03:21:51.427077Z",
          "shell.execute_reply.started": "2021-08-04T03:21:50.857668Z",
          "shell.execute_reply": "2021-08-04T03:21:51.426074Z"
        },
        "trusted": true,
        "id": "b6T8CRCPi7wR",
        "outputId": "15e5113d-d36a-4c1d-fea9-a1aa1e97b4aa",
        "colab": {
          "base_uri": "https://localhost:8080/"
        }
      },
      "execution_count": null,
      "outputs": [
        {
          "output_type": "stream",
          "name": "stdout",
          "text": [
            "Model: \"sequential\"\n",
            "_________________________________________________________________\n",
            " Layer (type)                Output Shape              Param #   \n",
            "=================================================================\n",
            " embedding (Embedding)       (None, 35, 300)           4519500   \n",
            "                                                                 \n",
            " dropout (Dropout)           (None, 35, 300)           0         \n",
            "                                                                 \n",
            " conv1d (Conv1D)             (None, 33, 32)            28832     \n",
            "                                                                 \n",
            " max_pooling1d (MaxPooling1  (None, 11, 32)            0         \n",
            " D)                                                              \n",
            "                                                                 \n",
            " dropout_1 (Dropout)         (None, 11, 32)            0         \n",
            "                                                                 \n",
            " conv1d_1 (Conv1D)           (None, 9, 32)             3104      \n",
            "                                                                 \n",
            " max_pooling1d_1 (MaxPoolin  (None, 3, 32)             0         \n",
            " g1D)                                                            \n",
            "                                                                 \n",
            " dropout_2 (Dropout)         (None, 3, 32)             0         \n",
            "                                                                 \n",
            " bidirectional (Bidirection  (None, 512)               591872    \n",
            " al)                                                             \n",
            "                                                                 \n",
            " dropout_3 (Dropout)         (None, 512)               0         \n",
            "                                                                 \n",
            " dense (Dense)               (None, 256)               131328    \n",
            "                                                                 \n",
            " dropout_4 (Dropout)         (None, 256)               0         \n",
            "                                                                 \n",
            " dense_1 (Dense)             (None, 6)                 1542      \n",
            "                                                                 \n",
            "=================================================================\n",
            "Total params: 5276178 (20.13 MB)\n",
            "Trainable params: 5276178 (20.13 MB)\n",
            "Non-trainable params: 0 (0.00 Byte)\n",
            "_________________________________________________________________\n"
          ]
        }
      ]
    },
    {
      "cell_type": "code",
      "source": [
        "checkpoint_filepath = './Checkpoint/checkpoint'\n",
        "model_checkpoint_callback = tf.keras.callbacks.ModelCheckpoint(\n",
        "    filepath=checkpoint_filepath,\n",
        "    save_weights_only=True,\n",
        "    monitor='val_accuracy',\n",
        "    mode='max',\n",
        "    save_best_only=True)"
      ],
      "metadata": {
        "execution": {
          "iopub.status.busy": "2021-08-04T03:21:51.428669Z",
          "iopub.execute_input": "2021-08-04T03:21:51.428965Z",
          "iopub.status.idle": "2021-08-04T03:21:51.433784Z",
          "shell.execute_reply.started": "2021-08-04T03:21:51.428937Z",
          "shell.execute_reply": "2021-08-04T03:21:51.432938Z"
        },
        "trusted": true,
        "id": "02jdCt15i7wS"
      },
      "execution_count": null,
      "outputs": []
    },
    {
      "cell_type": "code",
      "source": [
        "history = model.fit(X_train, dummy_y_train, epochs=EPOCHS, verbose=1, validation_data=(X_test, dummy_y_test), batch_size=128, callbacks=[model_checkpoint_callback])\n",
        "loss, accuracy = model.evaluate(X_train, dummy_y_train, verbose=0)\n",
        "print(\"Training Accuracy: {:.4f}\".format(accuracy))\n",
        "loss, accuracy = model.evaluate(X_test, dummy_y_test, verbose=0)\n",
        "print(\"Testing Accuracy:  {:.4f}\".format(accuracy))"
      ],
      "metadata": {
        "execution": {
          "iopub.status.busy": "2021-08-04T03:21:51.434994Z",
          "iopub.execute_input": "2021-08-04T03:21:51.435268Z",
          "iopub.status.idle": "2021-08-04T03:27:22.05981Z",
          "shell.execute_reply.started": "2021-08-04T03:21:51.435244Z",
          "shell.execute_reply": "2021-08-04T03:27:22.058532Z"
        },
        "trusted": true,
        "id": "PjHDKIBqi7wW",
        "outputId": "30cc9ad9-baaf-429c-cf14-cb1b49e10868",
        "colab": {
          "base_uri": "https://localhost:8080/"
        }
      },
      "execution_count": null,
      "outputs": [
        {
          "output_type": "stream",
          "name": "stdout",
          "text": [
            "Epoch 1/30\n",
            "125/125 [==============================] - 34s 185ms/step - loss: 1.3881 - accuracy: 0.4522 - val_loss: 0.9008 - val_accuracy: 0.6640\n",
            "Epoch 2/30\n",
            "125/125 [==============================] - 21s 171ms/step - loss: 0.7768 - accuracy: 0.7064 - val_loss: 0.4529 - val_accuracy: 0.8465\n",
            "Epoch 3/30\n",
            "125/125 [==============================] - 23s 185ms/step - loss: 0.4737 - accuracy: 0.8298 - val_loss: 0.3123 - val_accuracy: 0.8945\n",
            "Epoch 4/30\n",
            "125/125 [==============================] - 22s 176ms/step - loss: 0.3465 - accuracy: 0.8781 - val_loss: 0.2398 - val_accuracy: 0.9135\n",
            "Epoch 5/30\n",
            "125/125 [==============================] - 23s 180ms/step - loss: 0.2733 - accuracy: 0.9053 - val_loss: 0.2219 - val_accuracy: 0.9215\n",
            "Epoch 6/30\n",
            "125/125 [==============================] - 28s 221ms/step - loss: 0.2340 - accuracy: 0.9156 - val_loss: 0.2049 - val_accuracy: 0.9240\n",
            "Epoch 7/30\n",
            "125/125 [==============================] - 28s 220ms/step - loss: 0.2008 - accuracy: 0.9305 - val_loss: 0.1993 - val_accuracy: 0.9260\n",
            "Epoch 8/30\n",
            "125/125 [==============================] - 21s 165ms/step - loss: 0.1788 - accuracy: 0.9378 - val_loss: 0.2094 - val_accuracy: 0.9255\n",
            "Epoch 9/30\n",
            "125/125 [==============================] - 22s 180ms/step - loss: 0.1544 - accuracy: 0.9459 - val_loss: 0.2287 - val_accuracy: 0.9225\n",
            "Epoch 10/30\n",
            "125/125 [==============================] - 21s 171ms/step - loss: 0.1429 - accuracy: 0.9484 - val_loss: 0.2256 - val_accuracy: 0.9210\n",
            "Epoch 11/30\n",
            "125/125 [==============================] - 27s 216ms/step - loss: 0.1263 - accuracy: 0.9581 - val_loss: 0.2061 - val_accuracy: 0.9290\n",
            "Epoch 12/30\n",
            "125/125 [==============================] - 22s 173ms/step - loss: 0.1236 - accuracy: 0.9577 - val_loss: 0.2170 - val_accuracy: 0.9210\n",
            "Epoch 13/30\n",
            "125/125 [==============================] - 20s 158ms/step - loss: 0.1066 - accuracy: 0.9629 - val_loss: 0.2179 - val_accuracy: 0.9255\n",
            "Epoch 14/30\n",
            "125/125 [==============================] - 21s 171ms/step - loss: 0.1038 - accuracy: 0.9628 - val_loss: 0.2387 - val_accuracy: 0.9245\n",
            "Epoch 15/30\n",
            "125/125 [==============================] - 24s 193ms/step - loss: 0.0953 - accuracy: 0.9661 - val_loss: 0.2268 - val_accuracy: 0.9225\n",
            "Epoch 16/30\n",
            "125/125 [==============================] - 22s 180ms/step - loss: 0.0898 - accuracy: 0.9698 - val_loss: 0.2385 - val_accuracy: 0.9210\n",
            "Epoch 17/30\n",
            "125/125 [==============================] - 20s 161ms/step - loss: 0.0855 - accuracy: 0.9706 - val_loss: 0.2517 - val_accuracy: 0.9205\n",
            "Epoch 18/30\n",
            "125/125 [==============================] - 22s 173ms/step - loss: 0.0812 - accuracy: 0.9722 - val_loss: 0.2536 - val_accuracy: 0.9245\n",
            "Epoch 19/30\n",
            "125/125 [==============================] - 20s 159ms/step - loss: 0.0668 - accuracy: 0.9763 - val_loss: 0.2728 - val_accuracy: 0.9265\n",
            "Epoch 20/30\n",
            "125/125 [==============================] - 21s 170ms/step - loss: 0.0757 - accuracy: 0.9743 - val_loss: 0.2490 - val_accuracy: 0.9225\n",
            "Epoch 21/30\n",
            "125/125 [==============================] - 20s 161ms/step - loss: 0.0644 - accuracy: 0.9779 - val_loss: 0.2773 - val_accuracy: 0.9195\n",
            "Epoch 22/30\n",
            "125/125 [==============================] - 22s 174ms/step - loss: 0.0614 - accuracy: 0.9786 - val_loss: 0.2831 - val_accuracy: 0.9170\n",
            "Epoch 23/30\n",
            "125/125 [==============================] - 20s 158ms/step - loss: 0.0642 - accuracy: 0.9785 - val_loss: 0.2740 - val_accuracy: 0.9210\n",
            "Epoch 24/30\n",
            "125/125 [==============================] - 21s 172ms/step - loss: 0.0569 - accuracy: 0.9806 - val_loss: 0.3106 - val_accuracy: 0.9185\n",
            "Epoch 25/30\n",
            "125/125 [==============================] - 20s 159ms/step - loss: 0.0567 - accuracy: 0.9799 - val_loss: 0.3157 - val_accuracy: 0.9165\n",
            "Epoch 26/30\n",
            "125/125 [==============================] - 21s 172ms/step - loss: 0.0548 - accuracy: 0.9809 - val_loss: 0.3235 - val_accuracy: 0.9215\n",
            "Epoch 27/30\n",
            "125/125 [==============================] - 20s 161ms/step - loss: 0.0560 - accuracy: 0.9811 - val_loss: 0.3119 - val_accuracy: 0.9170\n",
            "Epoch 28/30\n",
            "125/125 [==============================] - 21s 171ms/step - loss: 0.0487 - accuracy: 0.9831 - val_loss: 0.3236 - val_accuracy: 0.9185\n",
            "Epoch 29/30\n",
            "125/125 [==============================] - 20s 160ms/step - loss: 0.0511 - accuracy: 0.9824 - val_loss: 0.2916 - val_accuracy: 0.9190\n",
            "Epoch 30/30\n",
            "125/125 [==============================] - 21s 170ms/step - loss: 0.0474 - accuracy: 0.9847 - val_loss: 0.2947 - val_accuracy: 0.9230\n",
            "Training Accuracy: 0.9952\n",
            "Testing Accuracy:  0.9230\n"
          ]
        }
      ]
    },
    {
      "cell_type": "code",
      "source": [
        "def PlotGraph(history):\n",
        "    acc = history.history['accuracy']\n",
        "    val_acc = history.history['val_accuracy']\n",
        "    loss = history.history['loss']\n",
        "    val_loss = history.history['val_loss']\n",
        "    x = range(1, len(acc) + 1)\n",
        "\n",
        "    plt.figure(figsize=(12, 5))\n",
        "    plt.subplot(1, 2, 1)\n",
        "    plt.plot(x, acc, 'g', label='Training acc')\n",
        "    plt.plot(x, val_acc, 'b', label='Validation acc')\n",
        "    plt.title('Training and validation accuracy')\n",
        "    plt.legend()\n",
        "    plt.subplot(1, 2, 2)\n",
        "    plt.plot(x, loss, 'g', label='Training loss')\n",
        "    plt.plot(x, val_loss, 'b', label='Validation loss')\n",
        "    plt.title('Training and validation loss')\n",
        "    plt.legend()"
      ],
      "metadata": {
        "execution": {
          "iopub.status.busy": "2021-08-04T03:27:32.584017Z",
          "iopub.execute_input": "2021-08-04T03:27:32.584427Z",
          "iopub.status.idle": "2021-08-04T03:27:32.592881Z",
          "shell.execute_reply.started": "2021-08-04T03:27:32.584379Z",
          "shell.execute_reply": "2021-08-04T03:27:32.592105Z"
        },
        "trusted": true,
        "id": "_CfR6Gmui7w3"
      },
      "execution_count": null,
      "outputs": []
    },
    {
      "cell_type": "code",
      "source": [
        "PlotGraph(history)"
      ],
      "metadata": {
        "execution": {
          "iopub.status.busy": "2021-08-04T03:27:34.713324Z",
          "iopub.execute_input": "2021-08-04T03:27:34.713849Z",
          "iopub.status.idle": "2021-08-04T03:27:35.155616Z",
          "shell.execute_reply.started": "2021-08-04T03:27:34.713816Z",
          "shell.execute_reply": "2021-08-04T03:27:35.154472Z"
        },
        "trusted": true,
        "id": "mDDbsnZti7w5",
        "outputId": "a359eb31-9e33-4c47-f843-09269fa9220b",
        "colab": {
          "base_uri": "https://localhost:8080/",
          "height": 468
        }
      },
      "execution_count": null,
      "outputs": [
        {
          "output_type": "display_data",
          "data": {
            "text/plain": [
              "<Figure size 1200x500 with 2 Axes>"
            ],
            "image/png": "[encoded data removed]"
          },
          "metadata": {}
        }
      ]
    },
    {
      "cell_type": "code",
      "source": [
        "print(f\"Best Accuracy Achieved by Model: {max(history.history['val_accuracy'])}\")"
      ],
      "metadata": {
        "execution": {
          "iopub.status.busy": "2021-08-04T03:30:51.822446Z",
          "iopub.execute_input": "2021-08-04T03:30:51.822807Z",
          "iopub.status.idle": "2021-08-04T03:30:51.828484Z",
          "shell.execute_reply.started": "2021-08-04T03:30:51.822776Z",
          "shell.execute_reply": "2021-08-04T03:30:51.82722Z"
        },
        "trusted": true,
        "id": "fChSwPPWi7w8",
        "outputId": "e1c771ce-cb44-42c1-b64b-4fcfcc9c5207",
        "colab": {
          "base_uri": "https://localhost:8080/"
        }
      },
      "execution_count": null,
      "outputs": [
        {
          "output_type": "stream",
          "name": "stdout",
          "text": [
            "Best Accuracy Achieved by Model: 0.9290000200271606\n"
          ]
        }
      ]
    },
    {
      "cell_type": "code",
      "source": [
        "model.load_weights(checkpoint_filepath)"
      ],
      "metadata": {
        "execution": {
          "iopub.status.busy": "2021-08-04T03:27:39.091773Z",
          "iopub.execute_input": "2021-08-04T03:27:39.092139Z",
          "iopub.status.idle": "2021-08-04T03:27:39.237838Z",
          "shell.execute_reply.started": "2021-08-04T03:27:39.092107Z",
          "shell.execute_reply": "2021-08-04T03:27:39.236751Z"
        },
        "trusted": true,
        "id": "CS3CeWo0i7w-",
        "outputId": "1a31b1d8-b673-467e-8a15-42fd9814455e",
        "colab": {
          "base_uri": "https://localhost:8080/"
        }
      },
      "execution_count": null,
      "outputs": [
        {
          "output_type": "execute_result",
          "data": {
            "text/plain": [
              "<tensorflow.python.checkpoint.checkpoint.CheckpointLoadStatus at 0x7b8df8439e40>"
            ]
          },
          "metadata": {},
          "execution_count": 50
        }
      ]
    },
    {
      "cell_type": "code",
      "source": [
        "predict = model.predict(TEST)\n",
        "predict_class = np.argmax(predict, axis=1)\n",
        "predict_class = np.array(predict_class)\n",
        "predict_class"
      ],
      "metadata": {
        "execution": {
          "iopub.status.busy": "2021-08-04T03:27:40.859007Z",
          "iopub.execute_input": "2021-08-04T03:27:40.8594Z",
          "iopub.status.idle": "2021-08-04T03:27:41.768264Z",
          "shell.execute_reply.started": "2021-08-04T03:27:40.859367Z",
          "shell.execute_reply": "2021-08-04T03:27:41.767431Z"
        },
        "trusted": true,
        "id": "im_b08Rai7w_",
        "outputId": "ccb191c7-e31a-4041-b0ad-16e735eb121d",
        "colab": {
          "base_uri": "https://localhost:8080/"
        }
      },
      "execution_count": null,
      "outputs": [
        {
          "output_type": "stream",
          "name": "stdout",
          "text": [
            "63/63 [==============================] - 3s 22ms/step\n"
          ]
        },
        {
          "output_type": "execute_result",
          "data": {
            "text/plain": [
              "array([4, 4, 4, ..., 2, 2, 1])"
            ]
          },
          "metadata": {},
          "execution_count": 51
        }
      ]
    },
    {
      "cell_type": "markdown",
      "source": [
        "# Performance Matrices"
      ],
      "metadata": {
        "id": "ZRS4CQrai7xB"
      }
    },
    {
      "cell_type": "code",
      "source": [
        "from sklearn.metrics import confusion_matrix\n",
        "\n",
        "cm = confusion_matrix(test_df[\"encoded_test_label\"], predict_class)\n",
        "cm"
      ],
      "metadata": {
        "execution": {
          "iopub.status.busy": "2021-08-04T03:27:44.248331Z",
          "iopub.execute_input": "2021-08-04T03:27:44.24877Z",
          "iopub.status.idle": "2021-08-04T03:27:44.262292Z",
          "shell.execute_reply.started": "2021-08-04T03:27:44.248737Z",
          "shell.execute_reply": "2021-08-04T03:27:44.261298Z"
        },
        "trusted": true,
        "id": "6wIkTwCPi7xC",
        "outputId": "bd704b35-2c25-4eaa-b308-ebd4177aa682",
        "colab": {
          "base_uri": "https://localhost:8080/"
        }
      },
      "execution_count": null,
      "outputs": [
        {
          "output_type": "execute_result",
          "data": {
            "text/plain": [
              "array([[254,   7,   3,   0,  10,   1],\n",
              "       [ 12, 196,   0,   0,   9,   7],\n",
              "       [  0,   5, 642,  42,   2,   4],\n",
              "       [  2,   0,  19, 137,   1,   0],\n",
              "       [ 12,   5,   7,   1, 556,   0],\n",
              "       [  2,  11,   2,   0,   2,  49]])"
            ]
          },
          "metadata": {},
          "execution_count": 52
        }
      ]
    },
    {
      "cell_type": "code",
      "source": [
        "df_cm = pd.DataFrame(cm, index=[\"anger\", \"fear\", \"joy\", \"love\", \"sadness\", \"surprise\"], columns=[\"anger\", \"fear\", \"joy\", \"love\", \"sadness\", \"surprise\"])\n",
        "plt.figure(figsize = (10,7))\n",
        "sns.heatmap(df_cm,annot=True, fmt =\"d\")"
      ],
      "metadata": {
        "execution": {
          "iopub.status.busy": "2021-08-04T03:27:47.570934Z",
          "iopub.execute_input": "2021-08-04T03:27:47.571294Z",
          "iopub.status.idle": "2021-08-04T03:27:47.975563Z",
          "shell.execute_reply.started": "2021-08-04T03:27:47.571264Z",
          "shell.execute_reply": "2021-08-04T03:27:47.974313Z"
        },
        "trusted": true,
        "id": "ShBQ3sNci7xD",
        "outputId": "18dd784b-7c83-4624-9831-0e8866a502ef",
        "colab": {
          "base_uri": "https://localhost:8080/",
          "height": 616
        }
      },
      "execution_count": null,
      "outputs": [
        {
          "output_type": "execute_result",
          "data": {
            "text/plain": [
              "<Axes: >"
            ]
          },
          "metadata": {},
          "execution_count": 53
        },
        {
          "output_type": "display_data",
          "data": {
            "text/plain": [
              "<Figure size 1000x700 with 2 Axes>"
            ],
            "image/png": "[encoded data removed]"
          },
          "metadata": {}
        }
      ]
    },
    {
      "cell_type": "code",
      "source": [
        "from sklearn.metrics import classification_report\n",
        "\n",
        "print(classification_report(test_df[\"encoded_test_label\"], predict_class, target_names =[\"anger\", \"fear\", \"joy\", \"love\", \"sadness\", \"surprise\"]))"
      ],
      "metadata": {
        "execution": {
          "iopub.status.busy": "2021-08-04T03:27:56.069644Z",
          "iopub.execute_input": "2021-08-04T03:27:56.069992Z",
          "iopub.status.idle": "2021-08-04T03:27:56.084769Z",
          "shell.execute_reply.started": "2021-08-04T03:27:56.069962Z",
          "shell.execute_reply": "2021-08-04T03:27:56.083698Z"
        },
        "trusted": true,
        "id": "P91NEz0fi7xD",
        "outputId": "7cc42251-575d-4d71-9d27-27420948b401",
        "colab": {
          "base_uri": "https://localhost:8080/"
        }
      },
      "execution_count": null,
      "outputs": [
        {
          "output_type": "stream",
          "name": "stdout",
          "text": [
            "              precision    recall  f1-score   support\n",
            "\n",
            "       anger       0.90      0.92      0.91       275\n",
            "        fear       0.88      0.88      0.88       224\n",
            "         joy       0.95      0.92      0.94       695\n",
            "        love       0.76      0.86      0.81       159\n",
            "     sadness       0.96      0.96      0.96       581\n",
            "    surprise       0.80      0.74      0.77        66\n",
            "\n",
            "    accuracy                           0.92      2000\n",
            "   macro avg       0.88      0.88      0.88      2000\n",
            "weighted avg       0.92      0.92      0.92      2000\n",
            "\n"
          ]
        }
      ]
    }
  ]
}