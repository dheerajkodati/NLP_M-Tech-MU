{
  "nbformat": 4,
  "nbformat_minor": 0,
  "metadata": {
    "colab": {
      "provenance": []
    },
    "kernelspec": {
      "name": "python3",
      "display_name": "Python 3"
    },
    "language_info": {
      "name": "python"
    }
  },
  "cells": [
    {
      "cell_type": "code",
      "execution_count": null,
      "metadata": {
        "id": "HgJVXCpfYDDO"
      },
      "outputs": [],
      "source": [
        "import nltk\n",
        "from nltk.corpus import wordnet as wn\n",
        "from nltk.wsd import lesk\n"
      ]
    },
    {
      "cell_type": "code",
      "source": [
        "# Ensure necessary NLTK data is downloaded\n",
        "nltk.download('wordnet')\n",
        "nltk.download('omw-1.4')  # For multilingual WordNet\n",
        "nltk.download('punkt')"
      ],
      "metadata": {
        "colab": {
          "base_uri": "https://localhost:8080/"
        },
        "id": "aBYCrrlVYNcA",
        "outputId": "7390c78f-e8a1-425c-e890-2173635ee456"
      },
      "execution_count": null,
      "outputs": [
        {
          "output_type": "stream",
          "name": "stderr",
          "text": [
            "[nltk_data] Downloading package wordnet to /root/nltk_data...\n",
            "[nltk_data] Downloading package omw-1.4 to /root/nltk_data...\n",
            "[nltk_data] Downloading package punkt to /root/nltk_data...\n",
            "[nltk_data]   Unzipping tokenizers/punkt.zip.\n"
          ]
        },
        {
          "output_type": "execute_result",
          "data": {
            "text/plain": [
              "True"
            ]
          },
          "metadata": {},
          "execution_count": 2
        }
      ]
    },
    {
      "cell_type": "code",
      "source": [
        "def word_sense_disambiguation(sentence, ambiguous_word):\n",
        "    \"\"\"\n",
        "    Perform Word Sense Disambiguation using the Lesk Algorithm.\n",
        "\n",
        "    Args:\n",
        "        sentence (str): The sentence containing the ambiguous word.\n",
        "        ambiguous_word (str): The word to disambiguate.\n",
        "\n",
        "    Returns:\n",
        "        str: The most probable sense/meaning of the word.\n",
        "    \"\"\"\n",
        "    # Tokenize the sentence into words\n",
        "    words = nltk.word_tokenize(sentence)\n",
        "\n",
        "    # Get the sense using Lesk algorithm\n",
        "    sense = lesk(words, ambiguous_word)\n",
        "\n",
        "    if sense:\n",
        "        return f\"Sense: {sense.name()}\\nDefinition: {sense.definition()}\\nExamples: {sense.examples()}\"\n",
        "    else:\n",
        "        return \"No sense found for the given word in this context.\""
      ],
      "metadata": {
        "id": "mRRl2MBGYQJg"
      },
      "execution_count": null,
      "outputs": []
    },
    {
      "cell_type": "code",
      "source": [
        "import nltk\n",
        "nltk.download('punkt_tab')"
      ],
      "metadata": {
        "colab": {
          "base_uri": "https://localhost:8080/"
        },
        "id": "HJ_036cBYfzk",
        "outputId": "16ccb6c6-2e99-4fd4-ead1-e7482259ea54"
      },
      "execution_count": null,
      "outputs": [
        {
          "output_type": "stream",
          "name": "stderr",
          "text": [
            "[nltk_data] Downloading package punkt_tab to /root/nltk_data...\n",
            "[nltk_data]   Unzipping tokenizers/punkt_tab.zip.\n"
          ]
        },
        {
          "output_type": "execute_result",
          "data": {
            "text/plain": [
              "True"
            ]
          },
          "metadata": {},
          "execution_count": 5
        }
      ]
    },
    {
      "cell_type": "code",
      "source": [
        "\n",
        "\n",
        "# Example Usage\n",
        "sentence = \"I went to the bank to deposit money.\"\n",
        "ambiguous_word = \"bank\"\n",
        "result = word_sense_disambiguation(sentence, ambiguous_word)\n",
        "print(result)\n",
        "\n",
        "sentence_2 = \"The river overflowed near the bank.\"\n",
        "result_2 = word_sense_disambiguation(sentence_2, ambiguous_word)\n",
        "print(result_2)\n"
      ],
      "metadata": {
        "colab": {
          "base_uri": "https://localhost:8080/"
        },
        "id": "Lqwz90HDYQMo",
        "outputId": "54b04d44-d32f-46a1-f89f-e9af2e9fb743"
      },
      "execution_count": null,
      "outputs": [
        {
          "output_type": "stream",
          "name": "stdout",
          "text": [
            "Sense: savings_bank.n.02\n",
            "Definition: a container (usually with a slot in the top) for keeping money at home\n",
            "Examples: ['the coin bank was empty']\n",
            "Sense: savings_bank.n.02\n",
            "Definition: a container (usually with a slot in the top) for keeping money at home\n",
            "Examples: ['the coin bank was empty']\n"
          ]
        }
      ]
    },
    {
      "cell_type": "code",
      "source": [],
      "metadata": {
        "id": "-3USOffUYQPq"
      },
      "execution_count": null,
      "outputs": []
    },
    {
      "cell_type": "code",
      "source": [],
      "metadata": {
        "id": "fSmQ8L29ZCL1"
      },
      "execution_count": null,
      "outputs": []
    },
    {
      "cell_type": "markdown",
      "source": [
        "***Example 2-Mental health***\n"
      ],
      "metadata": {
        "id": "kWSsC4cKZDPu"
      }
    },
    {
      "cell_type": "code",
      "source": [
        "\n",
        "from nltk.corpus import wordnet as wn\n",
        "\n",
        "from nltk.tokenize import word_tokenize\n",
        "\n",
        "# Ensure necessary NLTK data is downloaded\n",
        "\n",
        "\n",
        "def display_word_senses(sentence):\n",
        "    \"\"\"\n",
        "    Automatically display word senses for all words in a given sentence.\n",
        "\n",
        "    Args:\n",
        "        sentence (str): The input sentence.\n",
        "\n",
        "    Returns:\n",
        "        None: Prints the word senses for each word in the sentence.\n",
        "    \"\"\"\n",
        "    words = word_tokenize(sentence)  # Tokenize the sentence into words\n",
        "    print(f\"Input Sentence: {sentence}\\n\")\n",
        "    print(\"Word Senses:\\n\")\n",
        "\n",
        "    for word in words:\n",
        "        # Get the most likely sense using the Lesk algorithm\n",
        "        sense = lesk(words, word)\n",
        "        if sense:\n",
        "            print(f\"Word: {word}\")\n",
        "            print(f\" - Sense: {sense.name()}\")\n",
        "            print(f\" - Definition: {sense.definition()}\")\n",
        "            if sense.examples():\n",
        "                print(f\" - Examples: {sense.examples()}\")\n",
        "            print()  # Blank line for better readability\n",
        "        else:\n",
        "            # Skip words with no sense in WordNet\n",
        "            print(f\"Word: {word}\")\n",
        "            print(\" - No valid sense found in WordNet.\\n\")\n",
        "\n",
        "# Example Sentence\n",
        "sentence = \"The patient is suffering from severe depression and anxiety.\"\n",
        "display_word_senses(sentence)\n"
      ],
      "metadata": {
        "colab": {
          "base_uri": "https://localhost:8080/"
        },
        "id": "v52XdYvFZCO2",
        "outputId": "396988cc-3051-4398-c46d-7de9f6e68f0f"
      },
      "execution_count": null,
      "outputs": [
        {
          "output_type": "stream",
          "name": "stdout",
          "text": [
            "Input Sentence: The patient is suffering from severe depression and anxiety.\n",
            "\n",
            "Word Senses:\n",
            "\n",
            "Word: The\n",
            " - No valid sense found in WordNet.\n",
            "\n",
            "Word: patient\n",
            " - Sense: affected_role.n.01\n",
            " - Definition: the semantic role of an entity that is not the agent but is directly involved in or affected by the happening denoted by the verb in the clause\n",
            "\n",
            "Word: is\n",
            " - Sense: exist.v.01\n",
            " - Definition: have an existence, be extant\n",
            " - Examples: ['Is there a God?']\n",
            "\n",
            "Word: suffering\n",
            " - Sense: suffering.n.02\n",
            " - Definition: misery resulting from affliction\n",
            "\n",
            "Word: from\n",
            " - No valid sense found in WordNet.\n",
            "\n",
            "Word: severe\n",
            " - Sense: severe.s.04\n",
            " - Definition: unsparing and uncompromising in discipline or judgment; - H.G.Wells\n",
            " - Examples: ['a parent severe to the pitch of hostility', 'a hefty six-footer with a rather severe mien', 'a strict disciplinarian', 'a Spartan upbringing']\n",
            "\n",
            "Word: depression\n",
            " - Sense: depressive_disorder.n.01\n",
            " - Definition: a state of depression and anhedonia so severe as to require clinical intervention\n",
            "\n",
            "Word: and\n",
            " - No valid sense found in WordNet.\n",
            "\n",
            "Word: anxiety\n",
            " - Sense: anxiety.n.02\n",
            " - Definition: a vague unpleasant emotion that is experienced in anticipation of some (usually ill-defined) misfortune\n",
            "\n",
            "Word: .\n",
            " - No valid sense found in WordNet.\n",
            "\n"
          ]
        }
      ]
    },
    {
      "cell_type": "code",
      "source": [],
      "metadata": {
        "id": "jkvrJA1kZCSA"
      },
      "execution_count": null,
      "outputs": []
    },
    {
      "cell_type": "code",
      "source": [
        "from nltk.corpus import wordnet as wn\n",
        "\n",
        "\n",
        "def display_word_senses(sentence):\n",
        "    \"\"\"\n",
        "    Automatically display word senses for all words in a given sentence.\n",
        "\n",
        "    Args:\n",
        "        sentence (str): The input sentence.\n",
        "\n",
        "    Returns:\n",
        "        None: Prints the word senses.\n",
        "    \"\"\"\n",
        "    words = word_tokenize(sentence)  # Tokenize the sentence into words\n",
        "    print(f\"Input Sentence: {sentence}\\n\")\n",
        "    print(\"Word Senses:\\n\")\n",
        "\n",
        "    for word in words:\n",
        "        # Get the most likely sense using the Lesk algorithm\n",
        "        sense = lesk(words, word)\n",
        "        if sense:\n",
        "            print(f\"Word: {word}\")\n",
        "            print(f\" - Sense: {sense.name()}\")\n",
        "            print(f\" - Definition: {sense.definition()}\")\n",
        "            print(f\" - Examples: {sense.examples()}\\n\")\n",
        "        else:\n",
        "            print(f\"Word: {word}\")\n",
        "            print(\" - No sense found in WordNet.\\n\")\n",
        "\n",
        "# Example Sentence\n",
        "sentence = \"The patient showed signs of anxiety and depression during therapy.\"\n",
        "display_word_senses(sentence)\n"
      ],
      "metadata": {
        "colab": {
          "base_uri": "https://localhost:8080/"
        },
        "id": "-PR6ApvIZCU8",
        "outputId": "ab0b0535-2cda-4ae8-ada6-08e781efcac4"
      },
      "execution_count": null,
      "outputs": [
        {
          "output_type": "stream",
          "name": "stdout",
          "text": [
            "Input Sentence: The patient showed signs of anxiety and depression during therapy.\n",
            "\n",
            "Word Senses:\n",
            "\n",
            "Word: The\n",
            " - No sense found in WordNet.\n",
            "\n",
            "Word: patient\n",
            " - Sense: affected_role.n.01\n",
            " - Definition: the semantic role of an entity that is not the agent but is directly involved in or affected by the happening denoted by the verb in the clause\n",
            " - Examples: []\n",
            "\n",
            "Word: showed\n",
            " - Sense: read.v.08\n",
            " - Definition: indicate a certain reading; of gauges and instruments\n",
            " - Examples: ['The thermometer showed thirteen degrees below zero', \"The gauge read `empty'\"]\n",
            "\n",
            "Word: signs\n",
            " - Sense: sign.v.05\n",
            " - Definition: communicate silently and non-verbally by signals or signs\n",
            " - Examples: ['He signed his disapproval with a dismissive hand gesture', 'The diner signaled the waiters to bring the menu']\n",
            "\n",
            "Word: of\n",
            " - No sense found in WordNet.\n",
            "\n",
            "Word: anxiety\n",
            " - Sense: anxiety.n.01\n",
            " - Definition: (psychiatry) a relatively permanent state of worry and nervousness occurring in a variety of mental disorders, usually accompanied by compulsive behavior or attacks of panic\n",
            " - Examples: []\n",
            "\n",
            "Word: and\n",
            " - No sense found in WordNet.\n",
            "\n",
            "Word: depression\n",
            " - Sense: depressive_disorder.n.01\n",
            " - Definition: a state of depression and anhedonia so severe as to require clinical intervention\n",
            " - Examples: []\n",
            "\n",
            "Word: during\n",
            " - No sense found in WordNet.\n",
            "\n",
            "Word: therapy\n",
            " - Sense: therapy.n.01\n",
            " - Definition: (medicine) the act of caring for someone (as by medication or remedial training etc.)\n",
            " - Examples: ['the quarterback is undergoing treatment for a knee injury', 'he tried every treatment the doctors suggested', 'heat therapy gave the best relief']\n",
            "\n",
            "Word: .\n",
            " - No sense found in WordNet.\n",
            "\n"
          ]
        }
      ]
    }
  ]
}