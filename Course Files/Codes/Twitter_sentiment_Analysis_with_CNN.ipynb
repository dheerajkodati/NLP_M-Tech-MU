{
  "cells": [
    {
      "metadata": {
        "_uuid": "8f2839f25d086af736a60e9eeb907d3b93b6e0e5",
        "_cell_guid": "b1076dfc-b9ad-4769-8c92-a6c4dae69d19",
        "trusted": true,
        "id": "f6a8eJNBYau8",
        "outputId": "6d110cdc-b80b-4586-c607-90afccf9dd78"
      },
      "cell_type": "code",
      "source": [
        "# This Python 3 environment comes with many helpful analytics libraries installed\n",
        "# It is defined by the kaggle/python Docker image: https://github.com/kaggle/docker-python\n",
        "# For example, here's several helpful packages to load\n",
        "\n",
        "import numpy as np # linear algebra\n",
        "import pandas as pd # data processing, CSV file I/O (e.g. pd.read_csv)\n",
        "\n",
        "# Input data files are available in the read-only \"../input/\" directory\n",
        "# For example, running this (by clicking run or pressing Shift+Enter) will list all files under the input directory\n",
        "\n",
        "import os\n",
        "for dirname, _, filenames in os.walk('/kaggle/input'):\n",
        "    for filename in filenames:\n",
        "        print(os.path.join(dirname, filename))\n",
        "\n",
        "# You can write up to 5GB to the current directory (/kaggle/working/) that gets preserved as output when you create a version using \"Save & Run All\"\n",
        "# You can also write temporary files to /kaggle/temp/, but they won't be saved outside of the current session"
      ],
      "execution_count": null,
      "outputs": [
        {
          "output_type": "stream",
          "text": "/kaggle/input/sentiment140/training.1600000.processed.noemoticon.csv\n",
          "name": "stdout"
        }
      ]
    },
    {
      "cell_type": "code",
      "source": [],
      "metadata": {
        "id": "1curDsfj1b6v"
      },
      "execution_count": null,
      "outputs": []
    },
    {
      "metadata": {
        "id": "84MtHdGEYavB"
      },
      "cell_type": "markdown",
      "source": [
        "## Importing the dataset"
      ]
    },
    {
      "metadata": {
        "_uuid": "d629ff2d2480ee46fbb7e2d37f6b5fab8052498a",
        "_cell_guid": "79c7e3d0-c299-4dcb-8224-4455121ee9b0",
        "trusted": true,
        "id": "3vKjk1zwYavE",
        "outputId": "b4d2d328-753d-45d5-a687-e975416ff66a"
      },
      "cell_type": "code",
      "source": [
        "df=pd.read_csv('../input/sentiment140/training.1600000.processed.noemoticon.csv',encoding='ISO-8859-1',header=None)\n",
        "df.head()"
      ],
      "execution_count": null,
      "outputs": [
        {
          "output_type": "execute_result",
          "execution_count": 2,
          "data": {
            "text/plain": "   0           1                             2         3                4  \\\n0  0  1467810369  Mon Apr 06 22:19:45 PDT 2009  NO_QUERY  _TheSpecialOne_   \n1  0  1467810672  Mon Apr 06 22:19:49 PDT 2009  NO_QUERY    scotthamilton   \n2  0  1467810917  Mon Apr 06 22:19:53 PDT 2009  NO_QUERY         mattycus   \n3  0  1467811184  Mon Apr 06 22:19:57 PDT 2009  NO_QUERY          ElleCTF   \n4  0  1467811193  Mon Apr 06 22:19:57 PDT 2009  NO_QUERY           Karoli   \n\n                                                   5  \n0  @switchfoot http://twitpic.com/2y1zl - Awww, t...  \n1  is upset that he can't update his Facebook by ...  \n2  @Kenichan I dived many times for the ball. Man...  \n3    my whole body feels itchy and like its on fire   \n4  @nationwideclass no, it's not behaving at all....  ",
            "text/html": "<div>\n<style scoped>\n    .dataframe tbody tr th:only-of-type {\n        vertical-align: middle;\n    }\n\n    .dataframe tbody tr th {\n        vertical-align: top;\n    }\n\n    .dataframe thead th {\n        text-align: right;\n    }\n</style>\n<table border=\"1\" class=\"dataframe\">\n  <thead>\n    <tr style=\"text-align: right;\">\n      <th></th>\n      <th>0</th>\n      <th>1</th>\n      <th>2</th>\n      <th>3</th>\n      <th>4</th>\n      <th>5</th>\n    </tr>\n  </thead>\n  <tbody>\n    <tr>\n      <th>0</th>\n      <td>0</td>\n      <td>1467810369</td>\n      <td>Mon Apr 06 22:19:45 PDT 2009</td>\n      <td>NO_QUERY</td>\n      <td>_TheSpecialOne_</td>\n      <td>@switchfoot http://twitpic.com/2y1zl - Awww, t...</td>\n    </tr>\n    <tr>\n      <th>1</th>\n      <td>0</td>\n      <td>1467810672</td>\n      <td>Mon Apr 06 22:19:49 PDT 2009</td>\n      <td>NO_QUERY</td>\n      <td>scotthamilton</td>\n      <td>is upset that he can't update his Facebook by ...</td>\n    </tr>\n    <tr>\n      <th>2</th>\n      <td>0</td>\n      <td>1467810917</td>\n      <td>Mon Apr 06 22:19:53 PDT 2009</td>\n      <td>NO_QUERY</td>\n      <td>mattycus</td>\n      <td>@Kenichan I dived many times for the ball. Man...</td>\n    </tr>\n    <tr>\n      <th>3</th>\n      <td>0</td>\n      <td>1467811184</td>\n      <td>Mon Apr 06 22:19:57 PDT 2009</td>\n      <td>NO_QUERY</td>\n      <td>ElleCTF</td>\n      <td>my whole body feels itchy and like its on fire</td>\n    </tr>\n    <tr>\n      <th>4</th>\n      <td>0</td>\n      <td>1467811193</td>\n      <td>Mon Apr 06 22:19:57 PDT 2009</td>\n      <td>NO_QUERY</td>\n      <td>Karoli</td>\n      <td>@nationwideclass no, it's not behaving at all....</td>\n    </tr>\n  </tbody>\n</table>\n</div>"
          },
          "metadata": {}
        }
      ]
    },
    {
      "metadata": {
        "id": "PtyBInjkYavE"
      },
      "cell_type": "markdown",
      "source": [
        "## Feature Engineering"
      ]
    },
    {
      "metadata": {
        "trusted": true,
        "id": "qilgUL3tYavF",
        "outputId": "b8ee19e5-d583-4c15-e2b5-8f976a1fe557"
      },
      "cell_type": "code",
      "source": [
        "columns=df.columns\n",
        "columns"
      ],
      "execution_count": null,
      "outputs": [
        {
          "output_type": "execute_result",
          "execution_count": 3,
          "data": {
            "text/plain": "Int64Index([0, 1, 2, 3, 4, 5], dtype='int64')"
          },
          "metadata": {}
        }
      ]
    },
    {
      "metadata": {
        "trusted": true,
        "id": "zwbIbE9jYavG",
        "outputId": "a6159523-f4a4-4e88-c91f-2fb87c847bb3"
      },
      "cell_type": "code",
      "source": [
        "df.drop([1,2,3,4],axis=1,inplace=True)\n",
        "df.head()"
      ],
      "execution_count": null,
      "outputs": [
        {
          "output_type": "execute_result",
          "execution_count": 4,
          "data": {
            "text/plain": "   0                                                  5\n0  0  @switchfoot http://twitpic.com/2y1zl - Awww, t...\n1  0  is upset that he can't update his Facebook by ...\n2  0  @Kenichan I dived many times for the ball. Man...\n3  0    my whole body feels itchy and like its on fire \n4  0  @nationwideclass no, it's not behaving at all....",
            "text/html": "<div>\n<style scoped>\n    .dataframe tbody tr th:only-of-type {\n        vertical-align: middle;\n    }\n\n    .dataframe tbody tr th {\n        vertical-align: top;\n    }\n\n    .dataframe thead th {\n        text-align: right;\n    }\n</style>\n<table border=\"1\" class=\"dataframe\">\n  <thead>\n    <tr style=\"text-align: right;\">\n      <th></th>\n      <th>0</th>\n      <th>5</th>\n    </tr>\n  </thead>\n  <tbody>\n    <tr>\n      <th>0</th>\n      <td>0</td>\n      <td>@switchfoot http://twitpic.com/2y1zl - Awww, t...</td>\n    </tr>\n    <tr>\n      <th>1</th>\n      <td>0</td>\n      <td>is upset that he can't update his Facebook by ...</td>\n    </tr>\n    <tr>\n      <th>2</th>\n      <td>0</td>\n      <td>@Kenichan I dived many times for the ball. Man...</td>\n    </tr>\n    <tr>\n      <th>3</th>\n      <td>0</td>\n      <td>my whole body feels itchy and like its on fire</td>\n    </tr>\n    <tr>\n      <th>4</th>\n      <td>0</td>\n      <td>@nationwideclass no, it's not behaving at all....</td>\n    </tr>\n  </tbody>\n</table>\n</div>"
          },
          "metadata": {}
        }
      ]
    },
    {
      "metadata": {
        "trusted": true,
        "id": "X6B20RaPYavH",
        "outputId": "5e627574-c178-4863-b219-38d95751e20d"
      },
      "cell_type": "code",
      "source": [
        "df.columns=['sentiment','data']\n",
        "df.head()"
      ],
      "execution_count": null,
      "outputs": [
        {
          "output_type": "execute_result",
          "execution_count": 5,
          "data": {
            "text/plain": "   sentiment                                               data\n0          0  @switchfoot http://twitpic.com/2y1zl - Awww, t...\n1          0  is upset that he can't update his Facebook by ...\n2          0  @Kenichan I dived many times for the ball. Man...\n3          0    my whole body feels itchy and like its on fire \n4          0  @nationwideclass no, it's not behaving at all....",
            "text/html": "<div>\n<style scoped>\n    .dataframe tbody tr th:only-of-type {\n        vertical-align: middle;\n    }\n\n    .dataframe tbody tr th {\n        vertical-align: top;\n    }\n\n    .dataframe thead th {\n        text-align: right;\n    }\n</style>\n<table border=\"1\" class=\"dataframe\">\n  <thead>\n    <tr style=\"text-align: right;\">\n      <th></th>\n      <th>sentiment</th>\n      <th>data</th>\n    </tr>\n  </thead>\n  <tbody>\n    <tr>\n      <th>0</th>\n      <td>0</td>\n      <td>@switchfoot http://twitpic.com/2y1zl - Awww, t...</td>\n    </tr>\n    <tr>\n      <th>1</th>\n      <td>0</td>\n      <td>is upset that he can't update his Facebook by ...</td>\n    </tr>\n    <tr>\n      <th>2</th>\n      <td>0</td>\n      <td>@Kenichan I dived many times for the ball. Man...</td>\n    </tr>\n    <tr>\n      <th>3</th>\n      <td>0</td>\n      <td>my whole body feels itchy and like its on fire</td>\n    </tr>\n    <tr>\n      <th>4</th>\n      <td>0</td>\n      <td>@nationwideclass no, it's not behaving at all....</td>\n    </tr>\n  </tbody>\n</table>\n</div>"
          },
          "metadata": {}
        }
      ]
    },
    {
      "metadata": {
        "trusted": true,
        "id": "N_G3l5RWYavI"
      },
      "cell_type": "code",
      "source": [
        "y=df['sentiment']"
      ],
      "execution_count": null,
      "outputs": []
    },
    {
      "metadata": {
        "id": "PZLFsGUMYavJ"
      },
      "cell_type": "markdown",
      "source": [
        "## Splitting the dataset in train and test split"
      ]
    },
    {
      "metadata": {
        "trusted": true,
        "id": "EPvGqg1oYavJ",
        "outputId": "bc35431f-a547-47ff-f049-a205047cf7fe"
      },
      "cell_type": "code",
      "source": [
        "from sklearn.model_selection import train_test_split\n",
        "df_train,df_test,y_train,y_test=train_test_split(df['data'],y,test_size=0.33,random_state=42)\n",
        "print('DF Train Shape: ',df_train.shape)\n",
        "print('DF Test Shape: ',df_test.shape)\n",
        "print('Y Train Shape: ',y_train.shape)\n",
        "print('Y Test Shape: ',y_test.shape)\n"
      ],
      "execution_count": null,
      "outputs": [
        {
          "output_type": "stream",
          "text": "DF Train Shape:  (1072000,)\nDF Test Shape:  (528000,)\nY Train Shape:  (1072000,)\nY Test Shape:  (528000,)\n",
          "name": "stdout"
        }
      ]
    },
    {
      "metadata": {
        "id": "Bhc_s7f2YavK"
      },
      "cell_type": "markdown",
      "source": [
        "## Building deep learn model"
      ]
    },
    {
      "metadata": {
        "trusted": true,
        "id": "KowzyQZeYavL"
      },
      "cell_type": "code",
      "source": [
        "from tensorflow.keras.preprocessing.text import Tokenizer\n",
        "max_words=10000\n",
        "tokenizer=Tokenizer(max_words)\n",
        "tokenizer.fit_on_texts(df_train)\n",
        "sequence_train=tokenizer.texts_to_sequences(df_train)\n",
        "sequence_test=tokenizer.texts_to_sequences(df_test)"
      ],
      "execution_count": null,
      "outputs": []
    },
    {
      "metadata": {
        "trusted": true,
        "id": "Rp0o1QkDYavM",
        "outputId": "d732dc42-023b-404f-d329-c480d95b3e61"
      },
      "cell_type": "code",
      "source": [
        "word2vec=tokenizer.word_index\n",
        "V=len(word2vec)\n",
        "print('dataset has %s number of independent tokens' %V)"
      ],
      "execution_count": null,
      "outputs": [
        {
          "output_type": "stream",
          "text": "dataset has 527470 number of independent tokens\n",
          "name": "stdout"
        }
      ]
    },
    {
      "metadata": {
        "trusted": true,
        "id": "l5PKp44PYavN",
        "outputId": "7e629f16-ec9c-4c31-9dcc-55795c62cf4a"
      },
      "cell_type": "code",
      "source": [
        "from tensorflow.keras.preprocessing.sequence import pad_sequences\n",
        "data_train=pad_sequences(sequence_train)\n",
        "data_train.shape"
      ],
      "execution_count": null,
      "outputs": [
        {
          "output_type": "execute_result",
          "execution_count": 10,
          "data": {
            "text/plain": "(1072000, 116)"
          },
          "metadata": {}
        }
      ]
    },
    {
      "metadata": {
        "trusted": true,
        "id": "EIIKYlrSYavO",
        "outputId": "c2d44296-cf1e-44b5-9182-6f228cb49795"
      },
      "cell_type": "code",
      "source": [
        "T=data_train.shape[1]\n",
        "data_test=pad_sequences(sequence_test,maxlen=T)\n",
        "data_test.shape"
      ],
      "execution_count": null,
      "outputs": [
        {
          "output_type": "execute_result",
          "execution_count": 11,
          "data": {
            "text/plain": "(528000, 116)"
          },
          "metadata": {}
        }
      ]
    },
    {
      "metadata": {
        "trusted": true,
        "id": "bWhncJiHYavP"
      },
      "cell_type": "code",
      "source": [
        "from tensorflow.keras.layers import Input,Conv1D,MaxPooling1D,Dense,GlobalMaxPooling1D,Embedding\n",
        "from tensorflow.keras.models import Model"
      ],
      "execution_count": null,
      "outputs": []
    },
    {
      "metadata": {
        "trusted": true,
        "id": "9QReZIP7YavP",
        "outputId": "8a3b81f5-5b4b-48b0-82ad-57407fe1f02d"
      },
      "cell_type": "code",
      "source": [
        "D=20\n",
        "i=Input((T,))\n",
        "x=Embedding(V+1,D)(i)\n",
        "x=Conv1D(32,3,activation='relu')(x)\n",
        "x=MaxPooling1D(3)(x)\n",
        "x=Conv1D(64,3,activation='relu')(x)\n",
        "x=MaxPooling1D(3)(x)\n",
        "x=Conv1D(128,3,activation='relu')(x)\n",
        "x=GlobalMaxPooling1D()(x)\n",
        "x=Dense(5,activation='softmax')(x)\n",
        "model=Model(i,x)\n",
        "model.summary()"
      ],
      "execution_count": null,
      "outputs": [
        {
          "output_type": "stream",
          "text": "Model: \"model\"\n_________________________________________________________________\nLayer (type)                 Output Shape              Param #   \n=================================================================\ninput_1 (InputLayer)         [(None, 116)]             0         \n_________________________________________________________________\nembedding (Embedding)        (None, 116, 20)           10549420  \n_________________________________________________________________\nconv1d (Conv1D)              (None, 114, 32)           1952      \n_________________________________________________________________\nmax_pooling1d (MaxPooling1D) (None, 38, 32)            0         \n_________________________________________________________________\nconv1d_1 (Conv1D)            (None, 36, 64)            6208      \n_________________________________________________________________\nmax_pooling1d_1 (MaxPooling1 (None, 12, 64)            0         \n_________________________________________________________________\nconv1d_2 (Conv1D)            (None, 10, 128)           24704     \n_________________________________________________________________\nglobal_max_pooling1d (Global (None, 128)               0         \n_________________________________________________________________\ndense (Dense)                (None, 5)                 645       \n=================================================================\nTotal params: 10,582,929\nTrainable params: 10,582,929\nNon-trainable params: 0\n_________________________________________________________________\n",
          "name": "stdout"
        }
      ]
    },
    {
      "metadata": {
        "id": "L46zZffeYavQ"
      },
      "cell_type": "markdown",
      "source": [
        "## Training the model"
      ]
    },
    {
      "metadata": {
        "trusted": true,
        "id": "b-ceFj6xYavR",
        "outputId": "15949ceb-ca0b-4ebb-8aae-0524f2dfb246"
      },
      "cell_type": "code",
      "source": [
        "model.compile(loss='sparse_categorical_crossentropy',optimizer='adam',metrics=['accuracy'])\n",
        "cnn_senti=model.fit(data_train,y_train,validation_data=(data_test,y_test),epochs=5,batch_size=100)\n"
      ],
      "execution_count": null,
      "outputs": [
        {
          "output_type": "stream",
          "text": "Epoch 1/5\n10720/10720 [==============================] - 1758s 164ms/step - loss: 0.4310 - accuracy: 0.8000 - val_loss: 0.4022 - val_accuracy: 0.8164\nEpoch 2/5\n10720/10720 [==============================] - 1753s 164ms/step - loss: 0.3887 - accuracy: 0.8249 - val_loss: 0.3966 - val_accuracy: 0.8191\nEpoch 3/5\n10720/10720 [==============================] - 1758s 164ms/step - loss: 0.3717 - accuracy: 0.8337 - val_loss: 0.3952 - val_accuracy: 0.8212\nEpoch 4/5\n10720/10720 [==============================] - 1757s 164ms/step - loss: 0.3590 - accuracy: 0.8403 - val_loss: 0.3988 - val_accuracy: 0.8208\nEpoch 5/5\n10720/10720 [==============================] - 1761s 164ms/step - loss: 0.3487 - accuracy: 0.8457 - val_loss: 0.4016 - val_accuracy: 0.8183\n",
          "name": "stdout"
        }
      ]
    },
    {
      "metadata": {
        "trusted": true,
        "id": "-8NCyhRYYavR",
        "outputId": "997e73e9-25bf-4d21-8d75-cc601d07d5cc"
      },
      "cell_type": "code",
      "source": [
        "y_pred=model.predict(data_test)\n",
        "y_pred"
      ],
      "execution_count": null,
      "outputs": [
        {
          "output_type": "execute_result",
          "execution_count": 16,
          "data": {
            "text/plain": "array([[5.3057867e-01, 1.6503190e-12, 1.4737911e-12, 2.0880578e-12,\n        4.6942136e-01],\n       [4.3087047e-01, 4.5178608e-30, 1.8960694e-30, 9.7950818e-30,\n        5.6912953e-01],\n       [4.1006711e-01, 5.7825083e-32, 5.5344878e-32, 3.4352918e-30,\n        5.8993286e-01],\n       ...,\n       [1.3010762e-02, 0.0000000e+00, 0.0000000e+00, 0.0000000e+00,\n        9.8698920e-01],\n       [7.7644706e-01, 0.0000000e+00, 0.0000000e+00, 1.6368611e-38,\n        2.2355296e-01],\n       [8.7420261e-01, 1.4241580e-26, 1.1771427e-26, 1.5411697e-25,\n        1.2579739e-01]], dtype=float32)"
          },
          "metadata": {}
        }
      ]
    },
    {
      "metadata": {
        "trusted": true,
        "id": "eZNXQKv9YavS",
        "outputId": "62508a5c-2583-482f-a46c-52e4d76d85df"
      },
      "cell_type": "code",
      "source": [
        "y_pred=np.argmax(y_pred,axis=1)\n",
        "y_pred"
      ],
      "execution_count": null,
      "outputs": [
        {
          "output_type": "execute_result",
          "execution_count": 17,
          "data": {
            "text/plain": "array([0, 4, 4, ..., 4, 0, 0])"
          },
          "metadata": {}
        }
      ]
    },
    {
      "metadata": {
        "id": "BHwrGTS_YavT"
      },
      "cell_type": "markdown",
      "source": [
        "## Scoring"
      ]
    },
    {
      "metadata": {
        "trusted": true,
        "id": "fRcw7v2NYavT"
      },
      "cell_type": "code",
      "source": [
        "from sklearn.metrics import confusion_matrix,classification_report\n",
        "import seaborn as sns"
      ],
      "execution_count": null,
      "outputs": []
    },
    {
      "metadata": {
        "trusted": true,
        "id": "FzjJC6VOYavU",
        "outputId": "65b7452a-33c2-461d-ed21-7e53e53f125a"
      },
      "cell_type": "code",
      "source": [
        "cm=confusion_matrix(y_test,y_pred)\n",
        "ax=sns.heatmap(cm,annot=True,cmap='Blues',fmt=' ')\n",
        "ax.set_title('Confusion Matrix')\n",
        "ax.set_xlabel('y_test')\n",
        "ax.set_ylabel('y_pred')\n"
      ],
      "execution_count": null,
      "outputs": [
        {
          "output_type": "execute_result",
          "execution_count": 22,
          "data": {
            "text/plain": "Text(33.0, 0.5, 'y_pred')"
          },
          "metadata": {}
        },
        {
          "output_type": "display_data",
          "data": {
            "text/plain": "<Figure size 432x288 with 2 Axes>",
            "image/png": "[encoded data removed]"
          },
          "metadata": {
            "needs_background": "light"
          }
        }
      ]
    },
    {
      "metadata": {
        "trusted": true,
        "id": "nR2E0-3oYavU",
        "outputId": "c48fd691-7cdb-4e74-9f00-2181cb89983d"
      },
      "cell_type": "code",
      "source": [
        "print(classification_report(y_test,y_pred))"
      ],
      "execution_count": null,
      "outputs": [
        {
          "output_type": "stream",
          "text": "              precision    recall  f1-score   support\n\n           0       0.82      0.81      0.82    263321\n           4       0.81      0.83      0.82    264679\n\n    accuracy                           0.82    528000\n   macro avg       0.82      0.82      0.82    528000\nweighted avg       0.82      0.82      0.82    528000\n\n",
          "name": "stdout"
        }
      ]
    }
  ],
  "metadata": {
    "kernelspec": {
      "name": "python3",
      "display_name": "Python 3",
      "language": "python"
    },
    "language_info": {
      "name": "python",
      "version": "3.7.6",
      "mimetype": "text/x-python",
      "codemirror_mode": {
        "name": "ipython",
        "version": 3
      },
      "pygments_lexer": "ipython3",
      "nbconvert_exporter": "python",
      "file_extension": ".py"
    },
    "colab": {
      "provenance": []
    }
  },
  "nbformat": 4,
  "nbformat_minor": 0
}